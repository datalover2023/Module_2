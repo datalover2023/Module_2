{
  "cells": [
    {
      "cell_type": "markdown",
      "metadata": {
        "id": "view-in-github",
        "colab_type": "text"
      },
      "source": [
        "<a href=\"https://colab.research.google.com/github/datalover2023/Module_2/blob/main/Files_Manipulation_Module_2_good.ipynb\" target=\"_parent\"><img src=\"https://colab.research.google.com/assets/colab-badge.svg\" alt=\"Open In Colab\"/></a>"
      ]
    },
    {
      "cell_type": "markdown",
      "source": [
        "# 1.&nbsp;Set Up"
      ],
      "metadata": {
        "id": "bDYb4uuwZ2xh"
      }
    },
    {
      "cell_type": "code",
      "execution_count": 1,
      "metadata": {
        "id": "_NXz7PBlN_KU"
      },
      "outputs": [],
      "source": [
        "# Import Libraries\n",
        "import os\n",
        "import glob\n",
        "import shutil\n",
        "import sys\n",
        "from pathlib import Path\n",
        "import pandas as pd"
      ]
    },
    {
      "cell_type": "code",
      "source": [
        "# Accessing Google Drive from Google Colab\n",
        "\n",
        "from google.colab import drive \n",
        "drive.mount('/content/gdrive')"
      ],
      "metadata": {
        "colab": {
          "base_uri": "https://localhost:8080/"
        },
        "id": "8GkeyXnRAA_-",
        "outputId": "cf54ad9f-17df-481c-c04b-7e748a36aeb6"
      },
      "execution_count": 2,
      "outputs": [
        {
          "output_type": "stream",
          "name": "stdout",
          "text": [
            "Mounted at /content/gdrive\n"
          ]
        }
      ]
    },
    {
      "cell_type": "markdown",
      "metadata": {
        "id": "u1Ow-Eg4YHZA"
      },
      "source": [
        "# 2.&nbsp;Paths : CWD, Absolute vs Relative paths"
      ]
    },
    {
      "cell_type": "markdown",
      "source": [
        "## CWD: current working directory"
      ],
      "metadata": {
        "id": "lqaHbSJVl6_p"
      }
    },
    {
      "cell_type": "code",
      "execution_count": 3,
      "metadata": {
        "colab": {
          "base_uri": "https://localhost:8080/",
          "height": 52
        },
        "outputId": "65215207-dcf9-4b5c-a23a-aab7c62f5579",
        "id": "bbKBUTlTYHZB"
      },
      "outputs": [
        {
          "output_type": "stream",
          "name": "stdout",
          "text": [
            "The current working directory is : \n"
          ]
        },
        {
          "output_type": "execute_result",
          "data": {
            "text/plain": [
              "'/content'"
            ],
            "application/vnd.google.colaboratory.intrinsic+json": {
              "type": "string"
            }
          },
          "metadata": {},
          "execution_count": 3
        }
      ],
      "source": [
        "# get absolute path to current working directory\n",
        "\n",
        "print('The current working directory is : ')\n",
        "os.getcwd() "
      ]
    },
    {
      "cell_type": "code",
      "source": [
        "# save current working directory as cwd\n",
        "cwd = os.getcwd()\n",
        "cwd"
      ],
      "metadata": {
        "colab": {
          "base_uri": "https://localhost:8080/",
          "height": 35
        },
        "id": "HOSQo6ofYZIi",
        "outputId": "dffba1f8-c990-4c4c-ac81-05834b79874f"
      },
      "execution_count": 4,
      "outputs": [
        {
          "output_type": "execute_result",
          "data": {
            "text/plain": [
              "'/content'"
            ],
            "application/vnd.google.colaboratory.intrinsic+json": {
              "type": "string"
            }
          },
          "metadata": {},
          "execution_count": 4
        }
      ]
    },
    {
      "cell_type": "code",
      "source": [
        "# List all files and directories in current directory\n",
        "\n",
        "os.listdir('.') #  ==> we have 3 directories : config, gdrive, sample_data"
      ],
      "metadata": {
        "colab": {
          "base_uri": "https://localhost:8080/"
        },
        "id": "YAud5pWJjR7D",
        "outputId": "e3e41aee-3fcf-4526-bd66-83e2a850d831"
      },
      "execution_count": 5,
      "outputs": [
        {
          "output_type": "execute_result",
          "data": {
            "text/plain": [
              "['.config', 'gdrive', 'sample_data']"
            ]
          },
          "metadata": {},
          "execution_count": 5
        }
      ]
    },
    {
      "cell_type": "code",
      "source": [
        "# check conaining in sample_data directory\n",
        "\n",
        "print(os.listdir('sample_data'))"
      ],
      "metadata": {
        "colab": {
          "base_uri": "https://localhost:8080/"
        },
        "id": "aRUp1uLfjgcx",
        "outputId": "67bf5344-2e36-46c5-cb6a-f481346fef6a"
      },
      "execution_count": 6,
      "outputs": [
        {
          "output_type": "stream",
          "name": "stdout",
          "text": [
            "['README.md', 'anscombe.json', 'california_housing_train.csv', 'mnist_train_small.csv', 'mnist_test.csv', 'california_housing_test.csv']\n"
          ]
        }
      ]
    },
    {
      "cell_type": "markdown",
      "source": [
        "## Paths: Absolute & Relative"
      ],
      "metadata": {
        "id": "1NeODryrmHWC"
      }
    },
    {
      "cell_type": "markdown",
      "source": [
        "**Absolute file paths** are notated by a leading forward slash or drive label. For example, /home/example_user/example_directory or C:/system32/cmd.exe. An absolute file path describes how to access a given file or directory, starting from the root of the file system. A file path is also called a pathname.\n"
      ],
      "metadata": {
        "id": "JSOoWIiOk4Jw"
      }
    },
    {
      "cell_type": "code",
      "source": [
        "# check conaining in gdrive directory with aboslute path\n",
        "\n",
        "print(os.listdir('/content/gdrive')) \n",
        "print(os.listdir('/content/gdrive/MyDrive'))\n",
        "print(os.listdir('/content/gdrive/MyDrive/Colab Notebooks'))"
      ],
      "metadata": {
        "colab": {
          "base_uri": "https://localhost:8080/"
        },
        "id": "W1nieMycjfI6",
        "outputId": "64ba6140-9071-49b4-9747-eb7479fff8d0"
      },
      "execution_count": 7,
      "outputs": [
        {
          "output_type": "stream",
          "name": "stdout",
          "text": [
            "['MyDrive', '.file-revisions-by-id', '.shortcut-targets-by-id', '.Trash-0']\n",
            "['Colab Notebooks']\n",
            "['Python_Basics_Module_1 (10).ipynb', 'Practice_Module_1.ipynb', 'Python_Basics_Module_1_Cohort_1.ipynb', 'Basics_Module_1_Cohort_1 (1).ipynb', 'Basics_Module_1_Cohort_1.ipynb', 'Python_Basics_Module_1 (9).ipynb', 'Python_Basics_Module_1 (8).ipynb', 'Python_Basics_Module_1 (7).ipynb', 'Python_Basics_Module_1 (6).ipynb', 'Python_Basics_Module_1 (5).ipynb', 'Python_Basics_Module_1 (4).ipynb', 'Python_Basics_Module_1 (3).ipynb', 'Python_Basics_Module_1 (2).ipynb', 'Python_Basics_Module_1 (1).ipynb', 'Python_Basics_Module_1_back_up.ipynb', 'Python_Basics_Module_1.ipynb', 'Files_Manipulation (1).ipynb', ' Files_Manipulation_Module_2_Practice.ipynb', 'Files_Manipulation.ipynb', 'Files_Manipulation_v2.ipynb', 'Manipulation_Module_2.ipynb', 'Fille_Manipulation_Module_2_Practice.ipynb', 'Copy of Python_Basics_Module_1.ipynb', 'Files_Manipulation_Module_2_good (1).ipynb', 'Files_Manipulation_Module_2.ipynb', 'Files_Manipulation_Module_2_good.ipynb']\n"
          ]
        }
      ]
    },
    {
      "cell_type": "markdown",
      "source": [
        "**Relative file paths** are notated by a lack of a leading forward slash. For example, example_directory. A relative file path is interpreted from the perspective your current working directory. If you use a relative file path from the wrong directory, then the path will refer to a different file than you intend, or it will refer to no file at all."
      ],
      "metadata": {
        "id": "ZkNB-oRjlG7U"
      }
    },
    {
      "cell_type": "code",
      "source": [
        "# check conaining in gdrive directory with relative path\n",
        "\n",
        "print(os.listdir('gdrive')) \n",
        "print(os.listdir('gdrive/MyDrive'))\n",
        "print(os.listdir('gdrive/MyDrive/Colab Notebooks'))"
      ],
      "metadata": {
        "colab": {
          "base_uri": "https://localhost:8080/"
        },
        "id": "ZfOiSUfmkiKT",
        "outputId": "7743a62f-0388-4d7b-98a3-59504c5a4b09"
      },
      "execution_count": 8,
      "outputs": [
        {
          "output_type": "stream",
          "name": "stdout",
          "text": [
            "['MyDrive', '.file-revisions-by-id', '.shortcut-targets-by-id', '.Trash-0']\n",
            "['Colab Notebooks']\n",
            "['Python_Basics_Module_1 (10).ipynb', 'Practice_Module_1.ipynb', 'Python_Basics_Module_1_Cohort_1.ipynb', 'Basics_Module_1_Cohort_1 (1).ipynb', 'Basics_Module_1_Cohort_1.ipynb', 'Python_Basics_Module_1 (9).ipynb', 'Python_Basics_Module_1 (8).ipynb', 'Python_Basics_Module_1 (7).ipynb', 'Python_Basics_Module_1 (6).ipynb', 'Python_Basics_Module_1 (5).ipynb', 'Python_Basics_Module_1 (4).ipynb', 'Python_Basics_Module_1 (3).ipynb', 'Python_Basics_Module_1 (2).ipynb', 'Python_Basics_Module_1 (1).ipynb', 'Python_Basics_Module_1_back_up.ipynb', 'Python_Basics_Module_1.ipynb', 'Files_Manipulation (1).ipynb', ' Files_Manipulation_Module_2_Practice.ipynb', 'Files_Manipulation.ipynb', 'Files_Manipulation_v2.ipynb', 'Manipulation_Module_2.ipynb', 'Fille_Manipulation_Module_2_Practice.ipynb', 'Copy of Python_Basics_Module_1.ipynb', 'Files_Manipulation_Module_2_good (1).ipynb', 'Files_Manipulation_Module_2.ipynb', 'Files_Manipulation_Module_2_good.ipynb']\n"
          ]
        }
      ]
    },
    {
      "cell_type": "code",
      "source": [
        "# delete a notebook from Colab Notebook ==> Name_Notebook.ipynb after '/content/gdrive/MyDrive/Colab Notebooks/ + Name_Notebook.ipynb'\n",
        "\n",
        "# os.unlink('/content/gdrive/MyDrive/Colab Notebooks/Copy of Fille_Manipulation_Module_2_Practice.ipynb') # relative path as UK_old in the working directory\n"
      ],
      "metadata": {
        "id": "PmCZ28V6jz21"
      },
      "execution_count": 9,
      "outputs": []
    },
    {
      "cell_type": "markdown",
      "source": [
        "## Import files"
      ],
      "metadata": {
        "id": "YMsZrwvkmRWB"
      }
    },
    {
      "cell_type": "code",
      "source": [
        "# import files into google Colab\n",
        "from google.colab import files"
      ],
      "metadata": {
        "id": "vMtWKHrYDYdH"
      },
      "execution_count": 11,
      "outputs": []
    },
    {
      "cell_type": "code",
      "source": [
        "# upload from your local : excel files \"DE.xlsx\", 'UK.xlsx\", 'FR.xlsx' and 'UK_old.xlsx'\n",
        "uploaded = files.upload()"
      ],
      "metadata": {
        "colab": {
          "base_uri": "https://localhost:8080/",
          "height": 177
        },
        "id": "_H0qa3TEP5n7",
        "outputId": "d467da71-408b-485a-bac2-5e3d8c1cdfa7"
      },
      "execution_count": 12,
      "outputs": [
        {
          "output_type": "display_data",
          "data": {
            "text/plain": [
              "<IPython.core.display.HTML object>"
            ],
            "text/html": [
              "\n",
              "     <input type=\"file\" id=\"files-e8fe9002-5bf9-4886-aed1-49e2bdc32990\" name=\"files[]\" multiple disabled\n",
              "        style=\"border:none\" />\n",
              "     <output id=\"result-e8fe9002-5bf9-4886-aed1-49e2bdc32990\">\n",
              "      Upload widget is only available when the cell has been executed in the\n",
              "      current browser session. Please rerun this cell to enable.\n",
              "      </output>\n",
              "      <script>// Copyright 2017 Google LLC\n",
              "//\n",
              "// Licensed under the Apache License, Version 2.0 (the \"License\");\n",
              "// you may not use this file except in compliance with the License.\n",
              "// You may obtain a copy of the License at\n",
              "//\n",
              "//      http://www.apache.org/licenses/LICENSE-2.0\n",
              "//\n",
              "// Unless required by applicable law or agreed to in writing, software\n",
              "// distributed under the License is distributed on an \"AS IS\" BASIS,\n",
              "// WITHOUT WARRANTIES OR CONDITIONS OF ANY KIND, either express or implied.\n",
              "// See the License for the specific language governing permissions and\n",
              "// limitations under the License.\n",
              "\n",
              "/**\n",
              " * @fileoverview Helpers for google.colab Python module.\n",
              " */\n",
              "(function(scope) {\n",
              "function span(text, styleAttributes = {}) {\n",
              "  const element = document.createElement('span');\n",
              "  element.textContent = text;\n",
              "  for (const key of Object.keys(styleAttributes)) {\n",
              "    element.style[key] = styleAttributes[key];\n",
              "  }\n",
              "  return element;\n",
              "}\n",
              "\n",
              "// Max number of bytes which will be uploaded at a time.\n",
              "const MAX_PAYLOAD_SIZE = 100 * 1024;\n",
              "\n",
              "function _uploadFiles(inputId, outputId) {\n",
              "  const steps = uploadFilesStep(inputId, outputId);\n",
              "  const outputElement = document.getElementById(outputId);\n",
              "  // Cache steps on the outputElement to make it available for the next call\n",
              "  // to uploadFilesContinue from Python.\n",
              "  outputElement.steps = steps;\n",
              "\n",
              "  return _uploadFilesContinue(outputId);\n",
              "}\n",
              "\n",
              "// This is roughly an async generator (not supported in the browser yet),\n",
              "// where there are multiple asynchronous steps and the Python side is going\n",
              "// to poll for completion of each step.\n",
              "// This uses a Promise to block the python side on completion of each step,\n",
              "// then passes the result of the previous step as the input to the next step.\n",
              "function _uploadFilesContinue(outputId) {\n",
              "  const outputElement = document.getElementById(outputId);\n",
              "  const steps = outputElement.steps;\n",
              "\n",
              "  const next = steps.next(outputElement.lastPromiseValue);\n",
              "  return Promise.resolve(next.value.promise).then((value) => {\n",
              "    // Cache the last promise value to make it available to the next\n",
              "    // step of the generator.\n",
              "    outputElement.lastPromiseValue = value;\n",
              "    return next.value.response;\n",
              "  });\n",
              "}\n",
              "\n",
              "/**\n",
              " * Generator function which is called between each async step of the upload\n",
              " * process.\n",
              " * @param {string} inputId Element ID of the input file picker element.\n",
              " * @param {string} outputId Element ID of the output display.\n",
              " * @return {!Iterable<!Object>} Iterable of next steps.\n",
              " */\n",
              "function* uploadFilesStep(inputId, outputId) {\n",
              "  const inputElement = document.getElementById(inputId);\n",
              "  inputElement.disabled = false;\n",
              "\n",
              "  const outputElement = document.getElementById(outputId);\n",
              "  outputElement.innerHTML = '';\n",
              "\n",
              "  const pickedPromise = new Promise((resolve) => {\n",
              "    inputElement.addEventListener('change', (e) => {\n",
              "      resolve(e.target.files);\n",
              "    });\n",
              "  });\n",
              "\n",
              "  const cancel = document.createElement('button');\n",
              "  inputElement.parentElement.appendChild(cancel);\n",
              "  cancel.textContent = 'Cancel upload';\n",
              "  const cancelPromise = new Promise((resolve) => {\n",
              "    cancel.onclick = () => {\n",
              "      resolve(null);\n",
              "    };\n",
              "  });\n",
              "\n",
              "  // Wait for the user to pick the files.\n",
              "  const files = yield {\n",
              "    promise: Promise.race([pickedPromise, cancelPromise]),\n",
              "    response: {\n",
              "      action: 'starting',\n",
              "    }\n",
              "  };\n",
              "\n",
              "  cancel.remove();\n",
              "\n",
              "  // Disable the input element since further picks are not allowed.\n",
              "  inputElement.disabled = true;\n",
              "\n",
              "  if (!files) {\n",
              "    return {\n",
              "      response: {\n",
              "        action: 'complete',\n",
              "      }\n",
              "    };\n",
              "  }\n",
              "\n",
              "  for (const file of files) {\n",
              "    const li = document.createElement('li');\n",
              "    li.append(span(file.name, {fontWeight: 'bold'}));\n",
              "    li.append(span(\n",
              "        `(${file.type || 'n/a'}) - ${file.size} bytes, ` +\n",
              "        `last modified: ${\n",
              "            file.lastModifiedDate ? file.lastModifiedDate.toLocaleDateString() :\n",
              "                                    'n/a'} - `));\n",
              "    const percent = span('0% done');\n",
              "    li.appendChild(percent);\n",
              "\n",
              "    outputElement.appendChild(li);\n",
              "\n",
              "    const fileDataPromise = new Promise((resolve) => {\n",
              "      const reader = new FileReader();\n",
              "      reader.onload = (e) => {\n",
              "        resolve(e.target.result);\n",
              "      };\n",
              "      reader.readAsArrayBuffer(file);\n",
              "    });\n",
              "    // Wait for the data to be ready.\n",
              "    let fileData = yield {\n",
              "      promise: fileDataPromise,\n",
              "      response: {\n",
              "        action: 'continue',\n",
              "      }\n",
              "    };\n",
              "\n",
              "    // Use a chunked sending to avoid message size limits. See b/62115660.\n",
              "    let position = 0;\n",
              "    do {\n",
              "      const length = Math.min(fileData.byteLength - position, MAX_PAYLOAD_SIZE);\n",
              "      const chunk = new Uint8Array(fileData, position, length);\n",
              "      position += length;\n",
              "\n",
              "      const base64 = btoa(String.fromCharCode.apply(null, chunk));\n",
              "      yield {\n",
              "        response: {\n",
              "          action: 'append',\n",
              "          file: file.name,\n",
              "          data: base64,\n",
              "        },\n",
              "      };\n",
              "\n",
              "      let percentDone = fileData.byteLength === 0 ?\n",
              "          100 :\n",
              "          Math.round((position / fileData.byteLength) * 100);\n",
              "      percent.textContent = `${percentDone}% done`;\n",
              "\n",
              "    } while (position < fileData.byteLength);\n",
              "  }\n",
              "\n",
              "  // All done.\n",
              "  yield {\n",
              "    response: {\n",
              "      action: 'complete',\n",
              "    }\n",
              "  };\n",
              "}\n",
              "\n",
              "scope.google = scope.google || {};\n",
              "scope.google.colab = scope.google.colab || {};\n",
              "scope.google.colab._files = {\n",
              "  _uploadFiles,\n",
              "  _uploadFilesContinue,\n",
              "};\n",
              "})(self);\n",
              "</script> "
            ]
          },
          "metadata": {}
        },
        {
          "output_type": "stream",
          "name": "stdout",
          "text": [
            "Saving DE.xlsx to DE.xlsx\n",
            "Saving FR.xlsx to FR.xlsx\n",
            "Saving UK.xlsx to UK.xlsx\n",
            "Saving UK_old.xlsx to UK_old.xlsx\n"
          ]
        }
      ]
    },
    {
      "cell_type": "code",
      "source": [
        "# List all files and directories in current directory\n",
        "os.listdir('.')"
      ],
      "metadata": {
        "colab": {
          "base_uri": "https://localhost:8080/"
        },
        "id": "G-CfZN5wYvew",
        "outputId": "5fdc51d7-931d-436e-9833-af1bd625c82c"
      },
      "execution_count": 13,
      "outputs": [
        {
          "output_type": "execute_result",
          "data": {
            "text/plain": [
              "['.config',\n",
              " 'UK_old.xlsx',\n",
              " 'UK.xlsx',\n",
              " 'DE.xlsx',\n",
              " 'FR.xlsx',\n",
              " 'gdrive',\n",
              " 'sample_data']"
            ]
          },
          "metadata": {},
          "execution_count": 13
        }
      ]
    },
    {
      "cell_type": "markdown",
      "metadata": {
        "id": "bPlad8w9_dfJ"
      },
      "source": [
        "# 3.&nbsp;Folder hierarchy tree"
      ]
    },
    {
      "cell_type": "code",
      "execution_count": 14,
      "metadata": {
        "id": "74BL7BcF_dfK",
        "outputId": "1c7ab239-08b8-47d7-c890-8204a00e6406",
        "colab": {
          "base_uri": "https://localhost:8080/"
        }
      },
      "outputs": [
        {
          "output_type": "stream",
          "name": "stdout",
          "text": [
            "| ---- > content :\n",
            "| ------------ UK_old.xlsx\n",
            "| ------------ UK.xlsx\n",
            "| ------------ DE.xlsx\n",
            "| ------------ FR.xlsx\n",
            "| ------ > .config :\n",
            "| ------------------ .last_update_check.json\n",
            "| ------------------ .last_survey_prompt.yaml\n",
            "| ------------------ active_config\n",
            "| ------------------ config_sentinel\n",
            "| ------------------ .last_opt_in_prompt.yaml\n",
            "| ------------------ gce\n",
            "| -------- > logs :\n",
            "| ---------- > 2023.01.27 :\n",
            "| ------------------------------ 14.36.38.212919.log\n",
            "| ------------------------------ 14.36.06.715600.log\n",
            "| ------------------------------ 14.35.18.630538.log\n",
            "| ------------------------------ 14.36.14.287380.log\n",
            "| ------------------------------ 14.36.38.920934.log\n",
            "| ------------------------------ 14.35.44.062869.log\n",
            "| -------- > configurations :\n",
            "| ------------------------ config_default\n",
            "| ------ > gdrive :\n",
            "| -------- > MyDrive :\n",
            "| ---------- > Colab Notebooks :\n",
            "| ------------------------------ Python_Basics_Module_1 (10).ipynb\n",
            "| ------------------------------ Practice_Module_1.ipynb\n",
            "| ------------------------------ Python_Basics_Module_1_Cohort_1.ipynb\n",
            "| ------------------------------ Basics_Module_1_Cohort_1 (1).ipynb\n",
            "| ------------------------------ Basics_Module_1_Cohort_1.ipynb\n",
            "| ------------------------------ Python_Basics_Module_1 (9).ipynb\n",
            "| ------------------------------ Python_Basics_Module_1 (8).ipynb\n",
            "| ------------------------------ Python_Basics_Module_1 (7).ipynb\n",
            "| ------------------------------ Python_Basics_Module_1 (6).ipynb\n",
            "| ------------------------------ Python_Basics_Module_1 (5).ipynb\n",
            "| ------------------------------ Python_Basics_Module_1 (4).ipynb\n",
            "| ------------------------------ Python_Basics_Module_1 (3).ipynb\n",
            "| ------------------------------ Python_Basics_Module_1 (2).ipynb\n",
            "| ------------------------------ Python_Basics_Module_1 (1).ipynb\n",
            "| ------------------------------ Python_Basics_Module_1_back_up.ipynb\n",
            "| ------------------------------ Python_Basics_Module_1.ipynb\n",
            "| ------------------------------ Files_Manipulation (1).ipynb\n",
            "| ------------------------------  Files_Manipulation_Module_2_Practice.ipynb\n",
            "| ------------------------------ Files_Manipulation.ipynb\n",
            "| ------------------------------ Files_Manipulation_v2.ipynb\n",
            "| ------------------------------ Manipulation_Module_2.ipynb\n",
            "| ------------------------------ Fille_Manipulation_Module_2_Practice.ipynb\n",
            "| ------------------------------ Copy of Python_Basics_Module_1.ipynb\n",
            "| ------------------------------ Files_Manipulation_Module_2_good (1).ipynb\n",
            "| ------------------------------ Files_Manipulation_Module_2.ipynb\n",
            "| ------------------------------ Files_Manipulation_Module_2_good.ipynb\n",
            "| -------- > .file-revisions-by-id :\n",
            "| -------- > .shortcut-targets-by-id :\n",
            "| -------- > .Trash-0 :\n",
            "| ---------- > files :\n",
            "| ---------- > info :\n",
            "| ------ > sample_data :\n",
            "| ------------------ README.md\n",
            "| ------------------ anscombe.json\n",
            "| ------------------ california_housing_train.csv\n",
            "| ------------------ mnist_train_small.csv\n",
            "| ------------------ mnist_test.csv\n",
            "| ------------------ california_housing_test.csv\n"
          ]
        }
      ],
      "source": [
        "# create a function << folder tree >> to display the the hierarchy of your cwd\n",
        "\n",
        "def folder_tree(folder):\n",
        "    for dirpath, dirs, files in os.walk(cwd):\t \n",
        "        if 'checkpoints' not in dirpath:\n",
        "                path = dirpath.split('/')     \n",
        "                print ('|', (len(path))*'--', '>',os.path.basename(dirpath),':')\n",
        "                for f in files:\n",
        "                    print ('|', len(path)*'------', f)\n",
        "                    \n",
        "\n",
        "# call function folder_tree on your cwd\n",
        "\n",
        "folder_tree(cwd)  "
      ]
    },
    {
      "cell_type": "code",
      "source": [
        "# another way to explore your folder/files \n",
        "# create function << folder_tree_2 >>\n",
        "\n",
        "\n",
        "def folder_tree_2(folder):\n",
        "    for dirPath, dirNames, fileNames in os.walk(cwd, topdown=True):\n",
        "        if 'checkpoints' not in dirPath:\n",
        "            print(\"Directory Path: \", dirPath) \n",
        "            print(len(dirNames), \"Directories = \", dirNames )\n",
        "            print(len(fileNames), \"Files = \", fileNames )\n",
        "            print('-'*10)\n",
        "\n",
        "            \n",
        "\n",
        "# call function << folder_tree_2 >> on your cwd\n",
        "# it will return all Directory Paths with contained sub_directories and files\n",
        "# nb of sub_directories and files\n",
        "\n",
        "folder_tree_2(cwd)"
      ],
      "metadata": {
        "colab": {
          "base_uri": "https://localhost:8080/"
        },
        "id": "knqRLZQ-Zavw",
        "outputId": "3d95883c-a341-48c8-b3cd-7a847f0e541a"
      },
      "execution_count": 17,
      "outputs": [
        {
          "output_type": "stream",
          "name": "stdout",
          "text": [
            "Directory Path:  /content\n",
            "3 Directories =  ['.config', 'gdrive', 'sample_data']\n",
            "4 Files =  ['UK_old.xlsx', 'UK.xlsx', 'DE.xlsx', 'FR.xlsx']\n",
            "----------\n",
            "Directory Path:  /content/.config\n",
            "2 Directories =  ['logs', 'configurations']\n",
            "6 Files =  ['.last_update_check.json', '.last_survey_prompt.yaml', 'active_config', 'config_sentinel', '.last_opt_in_prompt.yaml', 'gce']\n",
            "----------\n",
            "Directory Path:  /content/.config/logs\n",
            "1 Directories =  ['2023.01.27']\n",
            "0 Files =  []\n",
            "----------\n",
            "Directory Path:  /content/.config/logs/2023.01.27\n",
            "0 Directories =  []\n",
            "6 Files =  ['14.36.38.212919.log', '14.36.06.715600.log', '14.35.18.630538.log', '14.36.14.287380.log', '14.36.38.920934.log', '14.35.44.062869.log']\n",
            "----------\n",
            "Directory Path:  /content/.config/configurations\n",
            "0 Directories =  []\n",
            "1 Files =  ['config_default']\n",
            "----------\n",
            "Directory Path:  /content/gdrive\n",
            "4 Directories =  ['MyDrive', '.file-revisions-by-id', '.shortcut-targets-by-id', '.Trash-0']\n",
            "0 Files =  []\n",
            "----------\n",
            "Directory Path:  /content/gdrive/MyDrive\n",
            "1 Directories =  ['Colab Notebooks']\n",
            "0 Files =  []\n",
            "----------\n",
            "Directory Path:  /content/gdrive/MyDrive/Colab Notebooks\n",
            "0 Directories =  []\n",
            "26 Files =  ['Python_Basics_Module_1 (10).ipynb', 'Practice_Module_1.ipynb', 'Python_Basics_Module_1_Cohort_1.ipynb', 'Basics_Module_1_Cohort_1 (1).ipynb', 'Basics_Module_1_Cohort_1.ipynb', 'Python_Basics_Module_1 (9).ipynb', 'Python_Basics_Module_1 (8).ipynb', 'Python_Basics_Module_1 (7).ipynb', 'Python_Basics_Module_1 (6).ipynb', 'Python_Basics_Module_1 (5).ipynb', 'Python_Basics_Module_1 (4).ipynb', 'Python_Basics_Module_1 (3).ipynb', 'Python_Basics_Module_1 (2).ipynb', 'Python_Basics_Module_1 (1).ipynb', 'Python_Basics_Module_1_back_up.ipynb', 'Python_Basics_Module_1.ipynb', 'Files_Manipulation (1).ipynb', ' Files_Manipulation_Module_2_Practice.ipynb', 'Files_Manipulation.ipynb', 'Files_Manipulation_v2.ipynb', 'Manipulation_Module_2.ipynb', 'Fille_Manipulation_Module_2_Practice.ipynb', 'Copy of Python_Basics_Module_1.ipynb', 'Files_Manipulation_Module_2_good (1).ipynb', 'Files_Manipulation_Module_2.ipynb', 'Files_Manipulation_Module_2_good.ipynb']\n",
            "----------\n",
            "Directory Path:  /content/gdrive/.file-revisions-by-id\n",
            "0 Directories =  []\n",
            "0 Files =  []\n",
            "----------\n",
            "Directory Path:  /content/gdrive/.shortcut-targets-by-id\n",
            "0 Directories =  []\n",
            "0 Files =  []\n",
            "----------\n",
            "Directory Path:  /content/gdrive/.Trash-0\n",
            "2 Directories =  ['files', 'info']\n",
            "0 Files =  []\n",
            "----------\n",
            "Directory Path:  /content/gdrive/.Trash-0/files\n",
            "0 Directories =  []\n",
            "0 Files =  []\n",
            "----------\n",
            "Directory Path:  /content/gdrive/.Trash-0/info\n",
            "0 Directories =  []\n",
            "0 Files =  []\n",
            "----------\n",
            "Directory Path:  /content/sample_data\n",
            "0 Directories =  []\n",
            "6 Files =  ['README.md', 'anscombe.json', 'california_housing_train.csv', 'mnist_train_small.csv', 'mnist_test.csv', 'california_housing_test.csv']\n",
            "----------\n"
          ]
        }
      ]
    },
    {
      "cell_type": "markdown",
      "source": [
        "# 4.&nbsp;Looking for Files with extensions"
      ],
      "metadata": {
        "id": "FCmGQXHAsiwd"
      }
    },
    {
      "cell_type": "code",
      "execution_count": 20,
      "metadata": {
        "colab": {
          "base_uri": "https://localhost:8080/"
        },
        "id": "pOhA88_hwXk7",
        "outputId": "698f9844-65dd-4549-dc91-33232544cc7d"
      },
      "outputs": [
        {
          "output_type": "stream",
          "name": "stdout",
          "text": [
            "there are 4 excel files: \n"
          ]
        },
        {
          "output_type": "execute_result",
          "data": {
            "text/plain": [
              "['UK_old.xlsx', 'UK.xlsx', 'DE.xlsx', 'FR.xlsx']"
            ]
          },
          "metadata": {},
          "execution_count": 20
        }
      ],
      "source": [
        "# create a list  \"excel_files\" with all files that have the extension excel_files in the working directory\n",
        "\n",
        "excel_files=[]\n",
        "for file in os.listdir(cwd):\n",
        "    if file.endswith('.xlsx'): # or '.csv' if your'looinkg for csv files\n",
        "            excel_files.append(file)\n",
        "            \n",
        "# it will print out excel names present in current directory folder = 'Basics_Python\"\n",
        "print( 'there are', len(excel_files), \"excel files: \")\n",
        "excel_files"
      ]
    },
    {
      "cell_type": "code",
      "execution_count": 19,
      "metadata": {
        "colab": {
          "base_uri": "https://localhost:8080/"
        },
        "id": "T9-EafJPwlNw",
        "outputId": "b8b7705b-16db-47e9-aea1-5c18ca0b6f00"
      },
      "outputs": [
        {
          "output_type": "stream",
          "name": "stdout",
          "text": [
            "['/content/UK_old.xlsx', '/content/UK.xlsx', '/content/DE.xlsx', '/content/FR.xlsx']\n",
            "\n",
            "File names with their paths:\n",
            "/content/UK_old.xlsx\n",
            "/content/UK.xlsx\n",
            "/content/DE.xlsx\n",
            "/content/FR.xlsx\n"
          ]
        }
      ],
      "source": [
        "# check the absolute path of all excel files\n",
        "\n",
        "# we'll use \"glob\" package that works with file paths\n",
        "# glob package is usefull to return all file paths that match a specific pattern\n",
        "\n",
        "# create a list where are stored the paths of every excel file\n",
        "\n",
        "# in the working directory here stored in the variable cwd... \n",
        "# find all files that have the extension .xlsx ...\n",
        "# and then concatenate the working directory path + excel file name ...\n",
        "# we will obtain the absolute path to each excel file ...\n",
        "# and then store them all into a list called \"filespaths\"\n",
        "\n",
        "\n",
        "filespaths = glob.glob(cwd + \"/*.xlsx\")  # create a list that from cwd, will pick up every the ABSOLUTE PATH for files with extention .xlsx\n",
        "print(filespaths)\n",
        "print(\"\")\n",
        "\n",
        "# print out excel paths one by one\n",
        "print('File names with their paths:')\n",
        "for path in filespaths:\n",
        "    print(path)"
      ]
    },
    {
      "cell_type": "markdown",
      "metadata": {
        "id": "cVcMXwSp_dfS"
      },
      "source": [
        "# 4.&nbsp;Change working directory"
      ]
    },
    {
      "cell_type": "code",
      "source": [
        "# if you want to change the present working directory then,\n",
        "\n",
        "# os.chdir('/home/e57658/workspace/Excel_Automation_Python/Raw_Excel_Files')\n",
        "os.chdir('/content/drive/MyDrive')\n",
        "# check the new current working directory now\n",
        "cwd = os.getcwd()\n",
        "cwd"
      ],
      "metadata": {
        "colab": {
          "base_uri": "https://localhost:8080/",
          "height": 36
        },
        "id": "XQ-pL1_8XKud",
        "outputId": "4f7bc79e-dd0e-48aa-d987-1f7caa9cdaab"
      },
      "execution_count": null,
      "outputs": [
        {
          "output_type": "execute_result",
          "data": {
            "text/plain": [
              "'/content/drive/MyDrive'"
            ],
            "application/vnd.google.colaboratory.intrinsic+json": {
              "type": "string"
            }
          },
          "metadata": {},
          "execution_count": 44
        }
      ]
    },
    {
      "cell_type": "code",
      "source": [
        "# List all files and directories in current directory\n",
        "os.listdir('.')"
      ],
      "metadata": {
        "colab": {
          "base_uri": "https://localhost:8080/"
        },
        "id": "WJW-tAbOXabC",
        "outputId": "e45a2e29-d5e5-4c10-85eb-5d8b3275e4df"
      },
      "execution_count": null,
      "outputs": [
        {
          "output_type": "execute_result",
          "data": {
            "text/plain": [
              "['Colab Notebooks']"
            ]
          },
          "metadata": {},
          "execution_count": 45
        }
      ]
    },
    {
      "cell_type": "markdown",
      "metadata": {
        "id": "klW5vu46w_Kj"
      },
      "source": [
        "# Create New Folder"
      ]
    },
    {
      "cell_type": "code",
      "execution_count": null,
      "metadata": {
        "colab": {
          "base_uri": "https://localhost:8080/",
          "height": 36
        },
        "id": "bFIMYI_UxCJ2",
        "outputId": "c5978b2d-6a0f-47bd-d622-8684a8b83add"
      },
      "outputs": [
        {
          "name": "stdout",
          "output_type": "stream",
          "text": [
            "/home/e57658/workspace/Excel_Automation_Python/Raw_Files\n"
          ]
        }
      ],
      "source": [
        "# create a new folder called \"Raw_Files\"\n",
        "\n",
        "# First: write the path to the \"Raw_Files\" folder\n",
        "folder = cwd + '/' + 'Raw_Files'\n",
        "print(folder)\n",
        "\n",
        "# Second: create the folder at the indicated path\n",
        "os.makedirs(folder)"
      ]
    },
    {
      "cell_type": "code",
      "execution_count": null,
      "metadata": {
        "id": "MoC3H5lP_dfI"
      },
      "outputs": [],
      "source": [
        "# rename Raw_Files in Raw_Excel_Files\n",
        "\n",
        "new_name= 'Raw_Excel_Files'\n",
        "\n",
        "os.rename(folder,new_name)"
      ]
    },
    {
      "cell_type": "code",
      "execution_count": null,
      "metadata": {
        "colab": {
          "base_uri": "https://localhost:8080/",
          "height": 36
        },
        "id": "_Oq-PpDbxE-t",
        "outputId": "0c1f70bd-602a-4f26-d8ae-3d98c58e9e2a"
      },
      "outputs": [
        {
          "data": {
            "text/plain": [
              "'/home/e57658/workspace/Excel_Automation_Python/New_Folder/Inner_folder'"
            ]
          },
          "execution_count": 9,
          "metadata": {},
          "output_type": "execute_result"
        }
      ],
      "source": [
        "# Create a nested folder (folder in the folder)\n",
        "\n",
        "other = cwd + '/' + 'New_Folder' + '/' +'Inner_folder' \n",
        "os.makedirs(other)\n",
        "other"
      ]
    },
    {
      "cell_type": "code",
      "execution_count": null,
      "metadata": {
        "id": "1XnRvpG6_dfL",
        "outputId": "83285175-fcac-43b4-e8d8-6fb2a5cfe28d",
        "colab": {
          "base_uri": "https://localhost:8080/"
        }
      },
      "outputs": [
        {
          "output_type": "stream",
          "name": "stdout",
          "text": [
            "Directory Path:  /content\n",
            "4 Directories =  ['.config', 'drive', 'gdrive', 'sample_data']\n",
            "8 Files =  ['UK_old.xlsx', 'UK (1).xlsx', 'UK.xlsx', 'DE.xlsx', 'FR.xlsx', 'DE (1).xlsx', 'UK_old (1).xlsx', 'FR (1).xlsx']\n",
            "----------\n",
            "Directory Path:  /content/.config\n",
            "2 Directories =  ['logs', 'configurations']\n",
            "6 Files =  ['.last_update_check.json', '.last_survey_prompt.yaml', 'active_config', 'config_sentinel', '.last_opt_in_prompt.yaml', 'gce']\n",
            "----------\n",
            "Directory Path:  /content/.config/logs\n",
            "1 Directories =  ['2023.01.27']\n",
            "0 Files =  []\n",
            "----------\n",
            "Directory Path:  /content/.config/logs/2023.01.27\n",
            "0 Directories =  []\n",
            "6 Files =  ['14.36.38.212919.log', '14.36.06.715600.log', '14.35.18.630538.log', '14.36.14.287380.log', '14.36.38.920934.log', '14.35.44.062869.log']\n",
            "----------\n",
            "Directory Path:  /content/.config/configurations\n",
            "0 Directories =  []\n",
            "1 Files =  ['config_default']\n",
            "----------\n",
            "Directory Path:  /content/gdrive\n",
            "4 Directories =  ['.shortcut-targets-by-id', '.file-revisions-by-id', 'MyDrive', '.Trash-0']\n",
            "0 Files =  []\n",
            "----------\n",
            "Directory Path:  /content/gdrive/.shortcut-targets-by-id\n",
            "0 Directories =  []\n",
            "0 Files =  []\n",
            "----------\n",
            "Directory Path:  /content/gdrive/.file-revisions-by-id\n",
            "0 Directories =  []\n",
            "0 Files =  []\n",
            "----------\n",
            "Directory Path:  /content/gdrive/MyDrive\n",
            "1 Directories =  ['Colab Notebooks']\n",
            "0 Files =  []\n",
            "----------\n",
            "Directory Path:  /content/gdrive/MyDrive/Colab Notebooks\n",
            "0 Directories =  []\n",
            "41 Files =  ['Untitled1.ipynb', 'Test.ipynb', 'test.ipynb', 'Python_Basics_Practice.ipynb', 'Untitled0.ipynb', 'Copy of Python_Basics_Module_1 (7).ipynb', 'Python_Basics_1_practice.ipynb', 'Untitled', 'Copy of Practice_Module_1.ipynb', 'Python_Basics_Module_1 (10).ipynb', 'Practice_Module_1.ipynb', 'Python_Basics_Module_1_Cohort_1.ipynb', 'Untitled2.ipynb', 'Basics_Module_1_Cohort_1 (1).ipynb', 'Basics_Module_1_Cohort_1.ipynb', 'Python_Basics_Module_1 (9).ipynb', 'Copy of Python_Basics_Module_1 (6).ipynb', 'Python_Basics_Module_1 (8).ipynb', 'Copy of Python_Basics_Module_1 (5).ipynb', 'Python_Basics_Module_1 (7).ipynb', 'Copy of Python_Basics_Module_1 (4).ipynb', 'Copy of Python_Basics_Module_1 (3).ipynb', 'Copy of Python_Basics_Module_1 (2).ipynb', 'Python_Basics_Module_1 (6).ipynb', 'Copy of Python_Basics_Module_1 (1).ipynb', 'Copy of Python_Basics_Module_1.ipynb', 'Python_Basics_Module_1 (5).ipynb', 'Python_Basics_Module_1 (4).ipynb', 'Python_Basics_Module_1 (3).ipynb', 'Python_Basics_Module_1 (2).ipynb', 'Python_Basics_Module_1 (1).ipynb', 'Python_Basics_Module_1_back_up.ipynb', 'Python_Basics_Module_1.ipynb', 'Files_Manipulation (1).ipynb', ' Files_Manipulation_Module_2_Practice.ipynb', 'Files_Manipulation.ipynb', 'Files_Manipulation_v2.ipynb', 'Files_Manipulation_Module_2.ipynb', 'Manipulation_Module_2.ipynb', 'Fille_Manipulation_Module_2_Practice.ipynb', 'Copy of Fille_Manipulation_Module_2_Practice.ipynb']\n",
            "----------\n",
            "Directory Path:  /content/gdrive/.Trash-0\n",
            "2 Directories =  ['files', 'info']\n",
            "0 Files =  []\n",
            "----------\n",
            "Directory Path:  /content/gdrive/.Trash-0/files\n",
            "0 Directories =  []\n",
            "0 Files =  []\n",
            "----------\n",
            "Directory Path:  /content/gdrive/.Trash-0/info\n",
            "0 Directories =  []\n",
            "0 Files =  []\n",
            "----------\n",
            "Directory Path:  /content/sample_data\n",
            "0 Directories =  []\n",
            "6 Files =  ['README.md', 'anscombe.json', 'california_housing_train.csv', 'mnist_train_small.csv', 'mnist_test.csv', 'california_housing_test.csv']\n",
            "----------\n"
          ]
        }
      ],
      "source": []
    },
    {
      "cell_type": "markdown",
      "metadata": {
        "id": "pt37qb5y_dfL"
      },
      "source": [
        "## Navigate in tree hierarchy"
      ]
    },
    {
      "cell_type": "code",
      "execution_count": null,
      "metadata": {
        "id": "tPrUfZ8d_dfM",
        "outputId": "21a5c276-0351-452a-b0e9-119047499962",
        "colab": {
          "base_uri": "https://localhost:8080/"
        }
      },
      "outputs": [
        {
          "output_type": "execute_result",
          "data": {
            "text/plain": [
              "['.config',\n",
              " 'DE (2).xlsx',\n",
              " 'UK_old (2).xlsx',\n",
              " 'FR (2).xlsx',\n",
              " 'UK_old.xlsx',\n",
              " 'UK (1).xlsx',\n",
              " 'UK.xlsx',\n",
              " 'UK (2).xlsx',\n",
              " 'drive',\n",
              " 'DE.xlsx',\n",
              " 'FR.xlsx',\n",
              " 'gdrive',\n",
              " 'DE (1).xlsx',\n",
              " 'UK_old (1).xlsx',\n",
              " 'FR (1).xlsx',\n",
              " 'sample_data']"
            ]
          },
          "metadata": {},
          "execution_count": 39
        }
      ],
      "source": [
        "# list all files in the current directoy\n",
        "\n",
        "os.listdir('.')"
      ]
    },
    {
      "cell_type": "code",
      "execution_count": null,
      "metadata": {
        "id": "sd5ghfUK_dfM",
        "outputId": "40c3c313-5c6f-4ac4-c277-6baa48c05d48",
        "colab": {
          "base_uri": "https://localhost:8080/"
        }
      },
      "outputs": [
        {
          "output_type": "execute_result",
          "data": {
            "text/plain": [
              "['dev',\n",
              " 'bin',\n",
              " 'root',\n",
              " 'proc',\n",
              " 'lib64',\n",
              " 'opt',\n",
              " 'lib32',\n",
              " 'etc',\n",
              " 'var',\n",
              " 'boot',\n",
              " 'srv',\n",
              " 'run',\n",
              " 'tmp',\n",
              " 'sys',\n",
              " 'home',\n",
              " 'mnt',\n",
              " 'libx32',\n",
              " 'lib',\n",
              " 'media',\n",
              " 'usr',\n",
              " 'sbin',\n",
              " 'content',\n",
              " '.dockerenv',\n",
              " 'datalab',\n",
              " 'tools',\n",
              " 'NGC-DL-CONTAINER-LICENSE']"
            ]
          },
          "metadata": {},
          "execution_count": 40
        }
      ],
      "source": [
        "# move up in the hierarchy to list the files from the upper level \n",
        "\n",
        "os.listdir('..')"
      ]
    },
    {
      "cell_type": "code",
      "execution_count": null,
      "metadata": {
        "id": "kw2WlP2e_dfN",
        "outputId": "b1d559b5-a9f6-4062-f925-494a7a1a90c4"
      },
      "outputs": [
        {
          "name": "stdout",
          "output_type": "stream",
          "text": [
            "['Inner_folder']\n"
          ]
        }
      ],
      "source": [
        "# list files inside a specific folder (get children)\n",
        "\n",
        "# new_folder = '/home/e57658/workspace/Excel_Automation_Python/New_Folder'\n",
        "print (os.listdir(new_folder))\n"
      ]
    },
    {
      "cell_type": "code",
      "execution_count": null,
      "metadata": {
        "id": "pImwa3TA_dfN",
        "outputId": "fa6b7327-382c-4892-fc6c-a5b4474e000d"
      },
      "outputs": [
        {
          "name": "stdout",
          "output_type": "stream",
          "text": [
            "/home/e57658/workspace/Excel_Automation_Python\n"
          ]
        }
      ],
      "source": [
        "# get parent of a scpecific folder (go back with 1 level)\n",
        "print(Path(new_folder).parents[0])"
      ]
    },
    {
      "cell_type": "code",
      "execution_count": null,
      "metadata": {
        "id": "yHEx2ok__dfO",
        "outputId": "e41cf3bd-30f4-4c5b-a174-cb759f5c7c02"
      },
      "outputs": [
        {
          "name": "stdout",
          "output_type": "stream",
          "text": [
            "/home/e57658/workspace\n"
          ]
        }
      ],
      "source": [
        "# # get grand parent of a scpecific folder (go back with 2 levels)\n",
        "\n",
        "print(Path(new_folder).parents[1])\n"
      ]
    },
    {
      "cell_type": "markdown",
      "metadata": {
        "id": "Jgviz2daz65q"
      },
      "source": [
        "# Copy File\n"
      ]
    },
    {
      "cell_type": "code",
      "execution_count": null,
      "metadata": {
        "id": "jIlgijfL_dfO"
      },
      "outputs": [],
      "source": [
        "# destination folder we want to copy is Raw_Files\n",
        "dest = 'Raw_Excel_Files'"
      ]
    },
    {
      "cell_type": "code",
      "execution_count": null,
      "metadata": {
        "colab": {
          "base_uri": "https://localhost:8080/",
          "height": 36
        },
        "id": "bWw3YvhHxguf",
        "outputId": "02676605-fb15-4cea-be8d-abbcaa30c7bf"
      },
      "outputs": [
        {
          "data": {
            "text/plain": [
              "'Raw_Excel_Files/UK.xlsx'"
            ]
          },
          "execution_count": 18,
          "metadata": {},
          "output_type": "execute_result"
        }
      ],
      "source": [
        "# work with shutil package\n",
        "''' Shutil module offers high-level operation on a file like a copy, create, move\n",
        "and remote operation on the file '''\n",
        "\n",
        "# path to the file that we want to copy : UK.xlsx we store it in a variable called \"src\"\n",
        "# as the file UK.xlsx is in working directory we can use the relative path of the file\n",
        "# otherwise we would need to use absolute path ....\n",
        "# ..'/home/e57658/workspace/Excel_Automation_Python/Basics_Python/DE.xlsx'\n",
        "\n",
        "src='UK.xlsx' \n",
        "\n",
        "# copy the file in the folder we want\n",
        "shutil.copy(src, # what file we want to copy, more specifically its path\n",
        "            dest) # path to the folder we want to paste the copied file"
      ]
    },
    {
      "cell_type": "code",
      "execution_count": null,
      "metadata": {
        "colab": {
          "base_uri": "https://localhost:8080/",
          "height": 36
        },
        "id": "wQKytxOX1SSm",
        "outputId": "2e2184fb-bd53-495b-c39b-2466249bca91"
      },
      "outputs": [
        {
          "data": {
            "text/plain": [
              "'Raw_Excel_Files/FR.xlsx'"
            ]
          },
          "execution_count": 19,
          "metadata": {},
          "output_type": "execute_result"
        }
      ],
      "source": [
        "# file that we want to copy : FR.xlsx\n",
        "src='FR.xlsx'\n",
        "\n",
        "# copy the file in the folder we want\n",
        "shutil.copy(src, dest)"
      ]
    },
    {
      "cell_type": "code",
      "execution_count": null,
      "metadata": {
        "colab": {
          "base_uri": "https://localhost:8080/",
          "height": 36
        },
        "outputId": "2e2184fb-bd53-495b-c39b-2466249bca91",
        "id": "ry059DRi_dfR"
      },
      "outputs": [
        {
          "data": {
            "text/plain": [
              "'Raw_Excel_Files/DE.xlsx'"
            ]
          },
          "execution_count": 20,
          "metadata": {},
          "output_type": "execute_result"
        }
      ],
      "source": [
        "# file that we want to copy : DE.xlsx\n",
        "src='DE.xlsx'\n",
        "\n",
        "# copy the file in the folder we want\n",
        "shutil.copy(src, dest)"
      ]
    },
    {
      "cell_type": "code",
      "execution_count": null,
      "metadata": {
        "id": "bdsQE7Fh_dfR",
        "outputId": "e28d4767-6ee0-43ce-8717-b3dbdf0ff496"
      },
      "outputs": [
        {
          "name": "stdout",
          "output_type": "stream",
          "text": [
            "['DE.xlsx', 'UK.xlsx', 'FR.xlsx', 'UK_old.xlsx']\n"
          ]
        }
      ],
      "source": [
        "# copy the multiple files in the folder we want\n",
        "\n",
        "# we want to copy all excel files in Raw_Excel_Files\n",
        "print(excel_files)\n",
        "\n",
        "for file in excel_files:\n",
        "    shutil.copy(file, dest)"
      ]
    },
    {
      "cell_type": "markdown",
      "metadata": {
        "id": "ot-XcKgS0vli"
      },
      "source": [
        "# Move File"
      ]
    },
    {
      "cell_type": "code",
      "execution_count": null,
      "metadata": {
        "id": "MC1Fq8YA_dfT",
        "outputId": "bbef8beb-d02b-492c-a9a1-83d5cdc7f807"
      },
      "outputs": [
        {
          "name": "stdout",
          "output_type": "stream",
          "text": [
            "/home/e57658/workspace/Excel_Automation_Python/Raw_Excel_Files/Old_Files\n"
          ]
        }
      ],
      "source": [
        "# First: write the path to the \"Python\" folder\n",
        "folder_1 = cwd + '/' + 'Old_Files'\n",
        "print(folder_1)\n",
        "\n",
        "# Second: create the folder at the indicated path\n",
        "os.makedirs(folder_1)"
      ]
    },
    {
      "cell_type": "code",
      "execution_count": null,
      "metadata": {
        "colab": {
          "base_uri": "https://localhost:8080/",
          "height": 36
        },
        "id": "aRJI5bND0ySA",
        "outputId": "8a6785ab-a408-4e03-9f42-f6e0e6cd5bdb"
      },
      "outputs": [
        {
          "data": {
            "text/plain": [
              "'/home/e57658/workspace/Excel_Automation_Python/Raw_Excel_Files/Old_Files/UK_old.xlsx'"
            ]
          },
          "execution_count": 24,
          "metadata": {},
          "output_type": "execute_result"
        }
      ],
      "source": [
        "# folder_to_move (it would be like cut/paste\n",
        "\n",
        "file_to_move = 'UK_old.xlsx'\n",
        "\n",
        "shutil.move(file_to_move, # file/folder to cut\n",
        "           folder_1) # folder where to move = '/home/e57658/workspace/Excel_Automation_Python/Basics_Python/Raw_Files'"
      ]
    },
    {
      "cell_type": "markdown",
      "metadata": {
        "id": "mXx48d0W2427"
      },
      "source": [
        "# Delete Files"
      ]
    },
    {
      "cell_type": "code",
      "execution_count": null,
      "metadata": {
        "id": "RYdN0l___dfU",
        "outputId": "51381f3d-8f4d-4868-d593-4468dbdf9580"
      },
      "outputs": [
        {
          "data": {
            "text/plain": [
              "'/home/e57658/workspace/Excel_Automation_Python/Raw_Excel_Files'"
            ]
          },
          "execution_count": 25,
          "metadata": {},
          "output_type": "execute_result"
        }
      ],
      "source": [
        "cwd"
      ]
    },
    {
      "cell_type": "code",
      "execution_count": null,
      "metadata": {
        "id": "rOYRvWSr2a0q"
      },
      "outputs": [],
      "source": [
        "# delete a file DE.xlsx from Raw_Files folder\n",
        "os.unlink('Old_Files/UK_old.xlsx') # relative path as UK_old in the working directory"
      ]
    },
    {
      "cell_type": "code",
      "execution_count": null,
      "metadata": {
        "id": "DxLnN3ya3KWN"
      },
      "outputs": [],
      "source": [
        "# delete empty folder 'Old_Files' from Raw_Files folder \n",
        "# ..go back in the Excel_Automation_Python...\n",
        "\n",
        "folder_to_remove= 'Old_Files'\n",
        "os.rmdir(folder_to_remove)"
      ]
    },
    {
      "cell_type": "code",
      "execution_count": null,
      "metadata": {
        "id": "eV1B39qb3iCB",
        "outputId": "a173a896-ceb0-4600-8f7c-1952bc2d53c9"
      },
      "outputs": [
        {
          "name": "stdout",
          "output_type": "stream",
          "text": [
            "['Inner_folder']\n"
          ]
        }
      ],
      "source": [
        "# delete NOT empty folder\n",
        "\n",
        "# New_Folder contains another file 'Inner_folder'\n",
        "print( os.listdir('/home/e57658/workspace/Excel_Automation_Python/New_Folder'))\n",
        "\n",
        "shutil.rmtree('/home/e57658/workspace/Excel_Automation_Python/New_Folder') \n",
        "# here we used the absolute path \n",
        "# we can NOT use relative path for folders / files as they are NOT present in cwd"
      ]
    },
    {
      "cell_type": "code",
      "execution_count": null,
      "metadata": {
        "colab": {
          "base_uri": "https://localhost:8080/"
        },
        "id": "qGwt9i5N3z7R",
        "outputId": "d020613b-0313-4453-c4fd-ba3a9ea8c84f"
      },
      "outputs": [
        {
          "data": {
            "text/plain": [
              "['.ipynb_checkpoints',\n",
              " 'Excel_Automation.ipynb',\n",
              " 'Raw_Excel_Files',\n",
              " 'Files_Manipulation.ipynb',\n",
              " 'DE.xlsx',\n",
              " 'config.yaml',\n",
              " 'UK.xlsx',\n",
              " 'FR.xlsx',\n",
              " 'UK_old.xlsx']"
            ]
          },
          "execution_count": 29,
          "metadata": {},
          "output_type": "execute_result"
        }
      ],
      "source": [
        "# now that we check the list in the upper level of files tree\n",
        "# we see  that New_Folder has disapeared\n",
        "\n",
        "os.listdir('..')"
      ]
    },
    {
      "cell_type": "markdown",
      "metadata": {
        "id": "0fgLzMm584mg"
      },
      "source": [
        "# Work with Excel Files\n"
      ]
    },
    {
      "cell_type": "raw",
      "metadata": {
        "id": "YURQ1cSY_dfW"
      },
      "source": [
        "We want to process some raw files and store them in a new separate file : Precessed_Files"
      ]
    },
    {
      "cell_type": "code",
      "execution_count": null,
      "metadata": {
        "id": "GoObcU-7_dfW",
        "outputId": "c8744565-1cb0-4e79-c770-2abac4f7ab30"
      },
      "outputs": [
        {
          "data": {
            "text/plain": [
              "'/home/e57658/workspace/Excel_Automation_Python/Raw_Excel_Files/Processed_Files'"
            ]
          },
          "execution_count": 30,
          "metadata": {},
          "output_type": "execute_result"
        }
      ],
      "source": [
        "# the path to the new folder\n",
        "cwd + '/' + 'Processed_Files'"
      ]
    },
    {
      "cell_type": "code",
      "execution_count": null,
      "metadata": {
        "id": "Eml73ZwN9Z-V"
      },
      "outputs": [],
      "source": [
        "# Create a folder 'Processed_Files' in the cwd where we'll store all processed files \n",
        "\n",
        "des = cwd + '/' + 'Processed_Files'\n",
        "os.makedirs(des)"
      ]
    },
    {
      "cell_type": "raw",
      "metadata": {
        "id": "uUzSvFQW_dfX"
      },
      "source": [
        "Steps in files processing ...."
      ]
    },
    {
      "cell_type": "markdown",
      "metadata": {
        "id": "7EImbUAb-oBT"
      },
      "source": [
        "\n",
        "\n",
        "1.  First read each excel files and put them into pandas dataframe\n",
        "2.  Consolidate all excel files into a single excel with separate sheet by country\n",
        "3.  Consolidate all excels into a single excel sheet\n",
        "\n"
      ]
    },
    {
      "cell_type": "markdown",
      "metadata": {
        "id": "Z1bvAVLN_dfX"
      },
      "source": [
        "## Read excels"
      ]
    },
    {
      "cell_type": "code",
      "execution_count": null,
      "metadata": {
        "id": "5Vlm5_yr89UT"
      },
      "outputs": [],
      "source": [
        "# if the excel file has too many rows, when visualising the data, not all columns are displayed\n",
        "# to overcome this we use .set_option method\n",
        "\n",
        "# set visible all columns\n",
        "pd.set_option('display.max_columns', None)"
      ]
    },
    {
      "cell_type": "code",
      "execution_count": null,
      "metadata": {
        "colab": {
          "base_uri": "https://localhost:8080/"
        },
        "id": "7qNp7_9l9ORl",
        "outputId": "d70608ac-ec18-4602-9cbf-24556043a769"
      },
      "outputs": [
        {
          "name": "stdout",
          "output_type": "stream",
          "text": [
            "Dataframe Shape:  (673, 14)\n"
          ]
        },
        {
          "data": {
            "text/html": [
              "<div>\n",
              "<style scoped>\n",
              "    .dataframe tbody tr th:only-of-type {\n",
              "        vertical-align: middle;\n",
              "    }\n",
              "\n",
              "    .dataframe tbody tr th {\n",
              "        vertical-align: top;\n",
              "    }\n",
              "\n",
              "    .dataframe thead th {\n",
              "        text-align: right;\n",
              "    }\n",
              "</style>\n",
              "<table border=\"1\" class=\"dataframe\">\n",
              "  <thead>\n",
              "    <tr style=\"text-align: right;\">\n",
              "      <th></th>\n",
              "      <th>Date</th>\n",
              "      <th>Name</th>\n",
              "      <th>Mannschaft</th>\n",
              "      <th>Rohe Präsenz (min)</th>\n",
              "      <th>Pause (Minuten)</th>\n",
              "      <th>Nettopräsenz (Min.)</th>\n",
              "      <th>Behandlung (min)</th>\n",
              "      <th>DMT</th>\n",
              "      <th>Productiviy</th>\n",
              "      <th>Processed tickets</th>\n",
              "      <th>Closed Tickets</th>\n",
              "      <th>FTE (processed)</th>\n",
              "      <th>FTE (presence)</th>\n",
              "      <th>FTE weighted</th>\n",
              "    </tr>\n",
              "  </thead>\n",
              "  <tbody>\n",
              "    <tr>\n",
              "      <th>0</th>\n",
              "      <td>2022-04-12</td>\n",
              "      <td>Employee_1</td>\n",
              "      <td>TEAM_1</td>\n",
              "      <td>102</td>\n",
              "      <td>0</td>\n",
              "      <td>102</td>\n",
              "      <td>4</td>\n",
              "      <td>00:02:08</td>\n",
              "      <td>0.6</td>\n",
              "      <td>2</td>\n",
              "      <td>1</td>\n",
              "      <td>0.00</td>\n",
              "      <td>0.25</td>\n",
              "      <td>0.00</td>\n",
              "    </tr>\n",
              "    <tr>\n",
              "      <th>1</th>\n",
              "      <td>2022-04-13</td>\n",
              "      <td>Employee_1</td>\n",
              "      <td>TEAM_1</td>\n",
              "      <td>299</td>\n",
              "      <td>0</td>\n",
              "      <td>299</td>\n",
              "      <td>168</td>\n",
              "      <td>00:42:00</td>\n",
              "      <td>0.4</td>\n",
              "      <td>4</td>\n",
              "      <td>2</td>\n",
              "      <td>0.50</td>\n",
              "      <td>0.75</td>\n",
              "      <td>0.50</td>\n",
              "    </tr>\n",
              "    <tr>\n",
              "      <th>2</th>\n",
              "      <td>2022-04-19</td>\n",
              "      <td>Employee_1</td>\n",
              "      <td>TEAM_1</td>\n",
              "      <td>478</td>\n",
              "      <td>0</td>\n",
              "      <td>478</td>\n",
              "      <td>275</td>\n",
              "      <td>00:16:12</td>\n",
              "      <td>2.0</td>\n",
              "      <td>17</td>\n",
              "      <td>16</td>\n",
              "      <td>0.75</td>\n",
              "      <td>1.00</td>\n",
              "      <td>0.75</td>\n",
              "    </tr>\n",
              "    <tr>\n",
              "      <th>3</th>\n",
              "      <td>2022-04-20</td>\n",
              "      <td>Employee_1</td>\n",
              "      <td>TEAM_1</td>\n",
              "      <td>427</td>\n",
              "      <td>0</td>\n",
              "      <td>427</td>\n",
              "      <td>142</td>\n",
              "      <td>00:12:56</td>\n",
              "      <td>1.4</td>\n",
              "      <td>11</td>\n",
              "      <td>10</td>\n",
              "      <td>0.50</td>\n",
              "      <td>1.00</td>\n",
              "      <td>0.50</td>\n",
              "    </tr>\n",
              "    <tr>\n",
              "      <th>4</th>\n",
              "      <td>2022-04-21</td>\n",
              "      <td>Employee_1</td>\n",
              "      <td>TEAM_1</td>\n",
              "      <td>482</td>\n",
              "      <td>0</td>\n",
              "      <td>482</td>\n",
              "      <td>129</td>\n",
              "      <td>00:16:12</td>\n",
              "      <td>1.0</td>\n",
              "      <td>8</td>\n",
              "      <td>8</td>\n",
              "      <td>0.50</td>\n",
              "      <td>1.00</td>\n",
              "      <td>0.50</td>\n",
              "    </tr>\n",
              "  </tbody>\n",
              "</table>\n",
              "</div>"
            ],
            "text/plain": [
              "        Date        Name Mannschaft  Rohe Präsenz (min)  Pause (Minuten)  \\\n",
              "0 2022-04-12  Employee_1     TEAM_1                 102                0   \n",
              "1 2022-04-13  Employee_1     TEAM_1                 299                0   \n",
              "2 2022-04-19  Employee_1     TEAM_1                 478                0   \n",
              "3 2022-04-20  Employee_1     TEAM_1                 427                0   \n",
              "4 2022-04-21  Employee_1     TEAM_1                 482                0   \n",
              "\n",
              "   Nettopräsenz (Min.)  Behandlung (min)       DMT  Productiviy  \\\n",
              "0                  102                 4  00:02:08          0.6   \n",
              "1                  299               168  00:42:00          0.4   \n",
              "2                  478               275  00:16:12          2.0   \n",
              "3                  427               142  00:12:56          1.4   \n",
              "4                  482               129  00:16:12          1.0   \n",
              "\n",
              "   Processed tickets  Closed Tickets  FTE (processed)  FTE (presence)  \\\n",
              "0                  2               1             0.00            0.25   \n",
              "1                  4               2             0.50            0.75   \n",
              "2                 17              16             0.75            1.00   \n",
              "3                 11              10             0.50            1.00   \n",
              "4                  8               8             0.50            1.00   \n",
              "\n",
              "   FTE weighted  \n",
              "0          0.00  \n",
              "1          0.50  \n",
              "2          0.75  \n",
              "3          0.50  \n",
              "4          0.50  "
            ]
          },
          "execution_count": 33,
          "metadata": {},
          "output_type": "execute_result"
        }
      ],
      "source": [
        "# DE.xlsx file\n",
        "\n",
        "# store the nme of the file in filename variable\n",
        "filename = 'DE.xlsx'\n",
        "# read the excel file with .read_excel method\n",
        "de = pd.read_excel(filename, # the file we want to read\n",
        "                   index_col=None, # do not add column index\n",
        "                   header=0) # the first row to be used as headers (column names)\n",
        "\n",
        "# check dataframe shape\n",
        "print('Dataframe Shape: ', de.shape)\n",
        "de.head()"
      ]
    },
    {
      "cell_type": "code",
      "execution_count": null,
      "metadata": {
        "colab": {
          "base_uri": "https://localhost:8080/",
          "height": 410
        },
        "id": "q-ZJeXh4_KBz",
        "outputId": "c216d697-348b-443b-b92c-e0a796fcadf0"
      },
      "outputs": [
        {
          "name": "stdout",
          "output_type": "stream",
          "text": [
            "Dataframe Shape:  (673, 15)\n"
          ]
        },
        {
          "data": {
            "text/html": [
              "<div>\n",
              "<style scoped>\n",
              "    .dataframe tbody tr th:only-of-type {\n",
              "        vertical-align: middle;\n",
              "    }\n",
              "\n",
              "    .dataframe tbody tr th {\n",
              "        vertical-align: top;\n",
              "    }\n",
              "\n",
              "    .dataframe thead th {\n",
              "        text-align: right;\n",
              "    }\n",
              "</style>\n",
              "<table border=\"1\" class=\"dataframe\">\n",
              "  <thead>\n",
              "    <tr style=\"text-align: right;\">\n",
              "      <th></th>\n",
              "      <th>Date</th>\n",
              "      <th>Name</th>\n",
              "      <th>Mannschaft</th>\n",
              "      <th>Rohe Präsenz (min)</th>\n",
              "      <th>Pause (Minuten)</th>\n",
              "      <th>Nettopräsenz (Min.)</th>\n",
              "      <th>Behandlung (min)</th>\n",
              "      <th>DMT</th>\n",
              "      <th>Productiviy</th>\n",
              "      <th>Processed tickets</th>\n",
              "      <th>Closed Tickets</th>\n",
              "      <th>FTE (processed)</th>\n",
              "      <th>FTE (presence)</th>\n",
              "      <th>FTE weighted</th>\n",
              "      <th>Country</th>\n",
              "    </tr>\n",
              "  </thead>\n",
              "  <tbody>\n",
              "    <tr>\n",
              "      <th>0</th>\n",
              "      <td>2022-04-12</td>\n",
              "      <td>Employee_1</td>\n",
              "      <td>TEAM_1</td>\n",
              "      <td>102</td>\n",
              "      <td>0</td>\n",
              "      <td>102</td>\n",
              "      <td>4</td>\n",
              "      <td>00:02:08</td>\n",
              "      <td>0.6</td>\n",
              "      <td>2</td>\n",
              "      <td>1</td>\n",
              "      <td>0.00</td>\n",
              "      <td>0.25</td>\n",
              "      <td>0.00</td>\n",
              "      <td>DE</td>\n",
              "    </tr>\n",
              "    <tr>\n",
              "      <th>1</th>\n",
              "      <td>2022-04-13</td>\n",
              "      <td>Employee_1</td>\n",
              "      <td>TEAM_1</td>\n",
              "      <td>299</td>\n",
              "      <td>0</td>\n",
              "      <td>299</td>\n",
              "      <td>168</td>\n",
              "      <td>00:42:00</td>\n",
              "      <td>0.4</td>\n",
              "      <td>4</td>\n",
              "      <td>2</td>\n",
              "      <td>0.50</td>\n",
              "      <td>0.75</td>\n",
              "      <td>0.50</td>\n",
              "      <td>DE</td>\n",
              "    </tr>\n",
              "    <tr>\n",
              "      <th>2</th>\n",
              "      <td>2022-04-19</td>\n",
              "      <td>Employee_1</td>\n",
              "      <td>TEAM_1</td>\n",
              "      <td>478</td>\n",
              "      <td>0</td>\n",
              "      <td>478</td>\n",
              "      <td>275</td>\n",
              "      <td>00:16:12</td>\n",
              "      <td>2.0</td>\n",
              "      <td>17</td>\n",
              "      <td>16</td>\n",
              "      <td>0.75</td>\n",
              "      <td>1.00</td>\n",
              "      <td>0.75</td>\n",
              "      <td>DE</td>\n",
              "    </tr>\n",
              "    <tr>\n",
              "      <th>3</th>\n",
              "      <td>2022-04-20</td>\n",
              "      <td>Employee_1</td>\n",
              "      <td>TEAM_1</td>\n",
              "      <td>427</td>\n",
              "      <td>0</td>\n",
              "      <td>427</td>\n",
              "      <td>142</td>\n",
              "      <td>00:12:56</td>\n",
              "      <td>1.4</td>\n",
              "      <td>11</td>\n",
              "      <td>10</td>\n",
              "      <td>0.50</td>\n",
              "      <td>1.00</td>\n",
              "      <td>0.50</td>\n",
              "      <td>DE</td>\n",
              "    </tr>\n",
              "    <tr>\n",
              "      <th>4</th>\n",
              "      <td>2022-04-21</td>\n",
              "      <td>Employee_1</td>\n",
              "      <td>TEAM_1</td>\n",
              "      <td>482</td>\n",
              "      <td>0</td>\n",
              "      <td>482</td>\n",
              "      <td>129</td>\n",
              "      <td>00:16:12</td>\n",
              "      <td>1.0</td>\n",
              "      <td>8</td>\n",
              "      <td>8</td>\n",
              "      <td>0.50</td>\n",
              "      <td>1.00</td>\n",
              "      <td>0.50</td>\n",
              "      <td>DE</td>\n",
              "    </tr>\n",
              "  </tbody>\n",
              "</table>\n",
              "</div>"
            ],
            "text/plain": [
              "        Date        Name Mannschaft  Rohe Präsenz (min)  Pause (Minuten)  \\\n",
              "0 2022-04-12  Employee_1     TEAM_1                 102                0   \n",
              "1 2022-04-13  Employee_1     TEAM_1                 299                0   \n",
              "2 2022-04-19  Employee_1     TEAM_1                 478                0   \n",
              "3 2022-04-20  Employee_1     TEAM_1                 427                0   \n",
              "4 2022-04-21  Employee_1     TEAM_1                 482                0   \n",
              "\n",
              "   Nettopräsenz (Min.)  Behandlung (min)       DMT  Productiviy  \\\n",
              "0                  102                 4  00:02:08          0.6   \n",
              "1                  299               168  00:42:00          0.4   \n",
              "2                  478               275  00:16:12          2.0   \n",
              "3                  427               142  00:12:56          1.4   \n",
              "4                  482               129  00:16:12          1.0   \n",
              "\n",
              "   Processed tickets  Closed Tickets  FTE (processed)  FTE (presence)  \\\n",
              "0                  2               1             0.00            0.25   \n",
              "1                  4               2             0.50            0.75   \n",
              "2                 17              16             0.75            1.00   \n",
              "3                 11              10             0.50            1.00   \n",
              "4                  8               8             0.50            1.00   \n",
              "\n",
              "   FTE weighted Country  \n",
              "0          0.00      DE  \n",
              "1          0.50      DE  \n",
              "2          0.75      DE  \n",
              "3          0.50      DE  \n",
              "4          0.50      DE  "
            ]
          },
          "execution_count": 34,
          "metadata": {},
          "output_type": "execute_result"
        }
      ],
      "source": [
        "# add a column 'Country' to diferentiate the data in the consilidated dataframe\n",
        "de['Country']= 'DE'\n",
        "\n",
        "# check dataframe shape after adding the new column\n",
        "print('Dataframe Shape: ', de.shape)\n",
        "\n",
        "# visualize first rows\n",
        "de.head()"
      ]
    },
    {
      "cell_type": "code",
      "execution_count": null,
      "metadata": {
        "colab": {
          "base_uri": "https://localhost:8080/"
        },
        "id": "EJdbhRHx-gDK",
        "outputId": "c435bec4-de4b-44c9-b6db-179fddca87c3"
      },
      "outputs": [
        {
          "name": "stdout",
          "output_type": "stream",
          "text": [
            "nb of columns:  15\n",
            "nb of rows:  673\n"
          ]
        },
        {
          "data": {
            "text/plain": [
              "Index(['Date', 'Name', 'Mannschaft', 'Rohe Präsenz (min)', 'Pause (Minuten)',\n",
              "       'Nettopräsenz (Min.)', 'Behandlung (min)', 'DMT', 'Productiviy',\n",
              "       'Processed tickets', 'Closed Tickets', 'FTE (processed)',\n",
              "       'FTE (presence)', 'FTE weighted', 'Country'],\n",
              "      dtype='object')"
            ]
          },
          "execution_count": 35,
          "metadata": {},
          "output_type": "execute_result"
        }
      ],
      "source": [
        "print('nb of columns: ', len(de.columns))\n",
        "print('nb of rows: ', len(de))\n",
        "de.columns"
      ]
    },
    {
      "cell_type": "code",
      "execution_count": null,
      "metadata": {
        "colab": {
          "base_uri": "https://localhost:8080/",
          "height": 428
        },
        "id": "8epCZNIl_Put",
        "outputId": "a9a520b2-5e50-4e4f-fa64-c93fb1466778"
      },
      "outputs": [
        {
          "name": "stdout",
          "output_type": "stream",
          "text": [
            "Dataframe Shape:  (267, 15)\n",
            "nb of columns:  15\n",
            "nb of rows:  267\n",
            "column names:  Index(['Date', 'Nom/Prénom', 'EQUIPE', 'Présence brute (min)', 'Pause (min)',\n",
            "       'Présente nette (min)', 'Traitement (min)', 'DMT',\n",
            "       'Productivité horaire', 'Tickets traités', 'Tickets clos',\n",
            "       'FTE (traitement)', 'FTE (présence)', 'FTE pondéré', 'Country'],\n",
            "      dtype='object')\n"
          ]
        },
        {
          "data": {
            "text/html": [
              "<div>\n",
              "<style scoped>\n",
              "    .dataframe tbody tr th:only-of-type {\n",
              "        vertical-align: middle;\n",
              "    }\n",
              "\n",
              "    .dataframe tbody tr th {\n",
              "        vertical-align: top;\n",
              "    }\n",
              "\n",
              "    .dataframe thead th {\n",
              "        text-align: right;\n",
              "    }\n",
              "</style>\n",
              "<table border=\"1\" class=\"dataframe\">\n",
              "  <thead>\n",
              "    <tr style=\"text-align: right;\">\n",
              "      <th></th>\n",
              "      <th>Date</th>\n",
              "      <th>Nom/Prénom</th>\n",
              "      <th>EQUIPE</th>\n",
              "      <th>Présence brute (min)</th>\n",
              "      <th>Pause (min)</th>\n",
              "      <th>Présente nette (min)</th>\n",
              "      <th>Traitement (min)</th>\n",
              "      <th>DMT</th>\n",
              "      <th>Productivité horaire</th>\n",
              "      <th>Tickets traités</th>\n",
              "      <th>Tickets clos</th>\n",
              "      <th>FTE (traitement)</th>\n",
              "      <th>FTE (présence)</th>\n",
              "      <th>FTE pondéré</th>\n",
              "      <th>Country</th>\n",
              "    </tr>\n",
              "  </thead>\n",
              "  <tbody>\n",
              "    <tr>\n",
              "      <th>0</th>\n",
              "      <td>2022-04-12</td>\n",
              "      <td>Employee_1</td>\n",
              "      <td>TEAM_1</td>\n",
              "      <td>102</td>\n",
              "      <td>0</td>\n",
              "      <td>102</td>\n",
              "      <td>4</td>\n",
              "      <td>0.001481</td>\n",
              "      <td>0.6</td>\n",
              "      <td>2</td>\n",
              "      <td>1</td>\n",
              "      <td>0.00</td>\n",
              "      <td>0.25</td>\n",
              "      <td>0.00</td>\n",
              "      <td>FR</td>\n",
              "    </tr>\n",
              "    <tr>\n",
              "      <th>1</th>\n",
              "      <td>2022-04-19</td>\n",
              "      <td>Employee_1</td>\n",
              "      <td>TEAM_1</td>\n",
              "      <td>478</td>\n",
              "      <td>0</td>\n",
              "      <td>478</td>\n",
              "      <td>275</td>\n",
              "      <td>0.011250</td>\n",
              "      <td>2.0</td>\n",
              "      <td>17</td>\n",
              "      <td>16</td>\n",
              "      <td>0.75</td>\n",
              "      <td>1.00</td>\n",
              "      <td>0.75</td>\n",
              "      <td>FR</td>\n",
              "    </tr>\n",
              "    <tr>\n",
              "      <th>2</th>\n",
              "      <td>2022-04-20</td>\n",
              "      <td>Employee_1</td>\n",
              "      <td>TEAM_1</td>\n",
              "      <td>427</td>\n",
              "      <td>0</td>\n",
              "      <td>427</td>\n",
              "      <td>142</td>\n",
              "      <td>0.008981</td>\n",
              "      <td>1.4</td>\n",
              "      <td>11</td>\n",
              "      <td>10</td>\n",
              "      <td>0.50</td>\n",
              "      <td>1.00</td>\n",
              "      <td>0.50</td>\n",
              "      <td>FR</td>\n",
              "    </tr>\n",
              "    <tr>\n",
              "      <th>3</th>\n",
              "      <td>2022-04-21</td>\n",
              "      <td>Employee_1</td>\n",
              "      <td>TEAM_1</td>\n",
              "      <td>482</td>\n",
              "      <td>0</td>\n",
              "      <td>482</td>\n",
              "      <td>129</td>\n",
              "      <td>0.011250</td>\n",
              "      <td>1.0</td>\n",
              "      <td>8</td>\n",
              "      <td>8</td>\n",
              "      <td>0.50</td>\n",
              "      <td>1.00</td>\n",
              "      <td>0.50</td>\n",
              "      <td>FR</td>\n",
              "    </tr>\n",
              "    <tr>\n",
              "      <th>4</th>\n",
              "      <td>2022-04-22</td>\n",
              "      <td>Employee_1</td>\n",
              "      <td>TEAM_1</td>\n",
              "      <td>476</td>\n",
              "      <td>0</td>\n",
              "      <td>476</td>\n",
              "      <td>117</td>\n",
              "      <td>0.013634</td>\n",
              "      <td>0.8</td>\n",
              "      <td>6</td>\n",
              "      <td>6</td>\n",
              "      <td>0.25</td>\n",
              "      <td>1.00</td>\n",
              "      <td>0.25</td>\n",
              "      <td>FR</td>\n",
              "    </tr>\n",
              "  </tbody>\n",
              "</table>\n",
              "</div>"
            ],
            "text/plain": [
              "        Date  Nom/Prénom  EQUIPE  Présence brute (min)  Pause (min)  \\\n",
              "0 2022-04-12  Employee_1  TEAM_1                   102            0   \n",
              "1 2022-04-19  Employee_1  TEAM_1                   478            0   \n",
              "2 2022-04-20  Employee_1  TEAM_1                   427            0   \n",
              "3 2022-04-21  Employee_1  TEAM_1                   482            0   \n",
              "4 2022-04-22  Employee_1  TEAM_1                   476            0   \n",
              "\n",
              "   Présente nette (min)  Traitement (min)       DMT  Productivité horaire  \\\n",
              "0                   102                 4  0.001481                   0.6   \n",
              "1                   478               275  0.011250                   2.0   \n",
              "2                   427               142  0.008981                   1.4   \n",
              "3                   482               129  0.011250                   1.0   \n",
              "4                   476               117  0.013634                   0.8   \n",
              "\n",
              "   Tickets traités  Tickets clos  FTE (traitement)  FTE (présence)  \\\n",
              "0                2             1              0.00            0.25   \n",
              "1               17            16              0.75            1.00   \n",
              "2               11            10              0.50            1.00   \n",
              "3                8             8              0.50            1.00   \n",
              "4                6             6              0.25            1.00   \n",
              "\n",
              "   FTE pondéré Country  \n",
              "0         0.00      FR  \n",
              "1         0.75      FR  \n",
              "2         0.50      FR  \n",
              "3         0.50      FR  \n",
              "4         0.25      FR  "
            ]
          },
          "execution_count": 36,
          "metadata": {},
          "output_type": "execute_result"
        }
      ],
      "source": [
        "# FR\n",
        "filename = 'FR.xlsx'\n",
        "fr = pd.read_excel(filename, index_col=None, header=0)\n",
        "\n",
        "\n",
        "# add a column 'Country' to diferentiate the data in the consilidated dataframe\n",
        "fr['Country']= 'FR'\n",
        "\n",
        "# check dataframe shape, dimensions after adding the new column\n",
        "print('Dataframe Shape: ', fr.shape)\n",
        "print('nb of columns: ', len(fr.columns))\n",
        "print('nb of rows: ', len(fr))\n",
        "\n",
        "# print column names \n",
        "print('column names: ', fr.columns)\n",
        "\n",
        "# visualize first rows\n",
        "fr.head()"
      ]
    },
    {
      "cell_type": "code",
      "execution_count": null,
      "metadata": {
        "colab": {
          "base_uri": "https://localhost:8080/",
          "height": 521
        },
        "id": "qmpsNlOW_lzx",
        "outputId": "796e64fb-688c-44f8-f7cc-3703f26ba0ce"
      },
      "outputs": [
        {
          "name": "stdout",
          "output_type": "stream",
          "text": [
            "Dataframe Shape:  (269, 15)\n",
            "nb of columns:  15\n",
            "nb of rows:  269\n",
            "column names:  Index(['Date', 'Name', 'Team', 'Presence', 'Pause (min)', 'Presence net (min)',\n",
            "       'Processed (min)', 'DMT', 'Productivity hours', 'Processed tickets',\n",
            "       'Closed tickets', 'FTE (process)', 'FTE (presence)', 'FTE weighted',\n",
            "       'Country'],\n",
            "      dtype='object')\n"
          ]
        },
        {
          "data": {
            "text/html": [
              "<div>\n",
              "<style scoped>\n",
              "    .dataframe tbody tr th:only-of-type {\n",
              "        vertical-align: middle;\n",
              "    }\n",
              "\n",
              "    .dataframe tbody tr th {\n",
              "        vertical-align: top;\n",
              "    }\n",
              "\n",
              "    .dataframe thead th {\n",
              "        text-align: right;\n",
              "    }\n",
              "</style>\n",
              "<table border=\"1\" class=\"dataframe\">\n",
              "  <thead>\n",
              "    <tr style=\"text-align: right;\">\n",
              "      <th></th>\n",
              "      <th>Date</th>\n",
              "      <th>Name</th>\n",
              "      <th>Team</th>\n",
              "      <th>Presence</th>\n",
              "      <th>Pause (min)</th>\n",
              "      <th>Presence net (min)</th>\n",
              "      <th>Processed (min)</th>\n",
              "      <th>DMT</th>\n",
              "      <th>Productivity hours</th>\n",
              "      <th>Processed tickets</th>\n",
              "      <th>Closed tickets</th>\n",
              "      <th>FTE (process)</th>\n",
              "      <th>FTE (presence)</th>\n",
              "      <th>FTE weighted</th>\n",
              "      <th>Country</th>\n",
              "    </tr>\n",
              "  </thead>\n",
              "  <tbody>\n",
              "    <tr>\n",
              "      <th>0</th>\n",
              "      <td>2022-04-12</td>\n",
              "      <td>Employee_1</td>\n",
              "      <td>TEAM_1</td>\n",
              "      <td>102.0</td>\n",
              "      <td>0.0</td>\n",
              "      <td>102</td>\n",
              "      <td>4</td>\n",
              "      <td>0.001481</td>\n",
              "      <td>0.6</td>\n",
              "      <td>2</td>\n",
              "      <td>1</td>\n",
              "      <td>0.00</td>\n",
              "      <td>0.25</td>\n",
              "      <td>0.00</td>\n",
              "      <td>UK</td>\n",
              "    </tr>\n",
              "    <tr>\n",
              "      <th>1</th>\n",
              "      <td>2022-04-19</td>\n",
              "      <td>Employee_1</td>\n",
              "      <td>TEAM_1</td>\n",
              "      <td>478.0</td>\n",
              "      <td>0.0</td>\n",
              "      <td>478</td>\n",
              "      <td>275</td>\n",
              "      <td>0.011250</td>\n",
              "      <td>2.0</td>\n",
              "      <td>17</td>\n",
              "      <td>16</td>\n",
              "      <td>0.75</td>\n",
              "      <td>1.00</td>\n",
              "      <td>0.75</td>\n",
              "      <td>UK</td>\n",
              "    </tr>\n",
              "    <tr>\n",
              "      <th>2</th>\n",
              "      <td>2022-04-20</td>\n",
              "      <td>Employee_1</td>\n",
              "      <td>TEAM_1</td>\n",
              "      <td>4.0</td>\n",
              "      <td>0.0</td>\n",
              "      <td>427</td>\n",
              "      <td>142</td>\n",
              "      <td>0.008981</td>\n",
              "      <td>1.4</td>\n",
              "      <td>11</td>\n",
              "      <td>10</td>\n",
              "      <td>0.50</td>\n",
              "      <td>1.00</td>\n",
              "      <td>0.50</td>\n",
              "      <td>UK</td>\n",
              "    </tr>\n",
              "    <tr>\n",
              "      <th>3</th>\n",
              "      <td>2022-04-21</td>\n",
              "      <td>Employee_1</td>\n",
              "      <td>TEAM_1</td>\n",
              "      <td>482.0</td>\n",
              "      <td>0.0</td>\n",
              "      <td>482</td>\n",
              "      <td>129</td>\n",
              "      <td>0.011250</td>\n",
              "      <td>1.0</td>\n",
              "      <td>8</td>\n",
              "      <td>8</td>\n",
              "      <td>0.50</td>\n",
              "      <td>1.00</td>\n",
              "      <td>0.50</td>\n",
              "      <td>UK</td>\n",
              "    </tr>\n",
              "    <tr>\n",
              "      <th>4</th>\n",
              "      <td>2022-04-22</td>\n",
              "      <td>Employee_1</td>\n",
              "      <td>TEAM_1</td>\n",
              "      <td>476.0</td>\n",
              "      <td>0.0</td>\n",
              "      <td>476</td>\n",
              "      <td>117</td>\n",
              "      <td>0.013634</td>\n",
              "      <td>0.8</td>\n",
              "      <td>6</td>\n",
              "      <td>6</td>\n",
              "      <td>0.25</td>\n",
              "      <td>1.00</td>\n",
              "      <td>0.25</td>\n",
              "      <td>UK</td>\n",
              "    </tr>\n",
              "  </tbody>\n",
              "</table>\n",
              "</div>"
            ],
            "text/plain": [
              "        Date        Name    Team  Presence  Pause (min)  Presence net (min)  \\\n",
              "0 2022-04-12  Employee_1  TEAM_1     102.0          0.0                 102   \n",
              "1 2022-04-19  Employee_1  TEAM_1     478.0          0.0                 478   \n",
              "2 2022-04-20  Employee_1  TEAM_1       4.0          0.0                 427   \n",
              "3 2022-04-21  Employee_1  TEAM_1     482.0          0.0                 482   \n",
              "4 2022-04-22  Employee_1  TEAM_1     476.0          0.0                 476   \n",
              "\n",
              "   Processed (min)       DMT  Productivity hours  Processed tickets  \\\n",
              "0                4  0.001481                 0.6                  2   \n",
              "1              275  0.011250                 2.0                 17   \n",
              "2              142  0.008981                 1.4                 11   \n",
              "3              129  0.011250                 1.0                  8   \n",
              "4              117  0.013634                 0.8                  6   \n",
              "\n",
              "   Closed tickets  FTE (process)  FTE (presence)  FTE weighted Country  \n",
              "0               1           0.00            0.25          0.00      UK  \n",
              "1              16           0.75            1.00          0.75      UK  \n",
              "2              10           0.50            1.00          0.50      UK  \n",
              "3               8           0.50            1.00          0.50      UK  \n",
              "4               6           0.25            1.00          0.25      UK  "
            ]
          },
          "execution_count": 37,
          "metadata": {},
          "output_type": "execute_result"
        }
      ],
      "source": [
        "# FR\n",
        "filename = 'UK.xlsx'\n",
        "uk = pd.read_excel(filename, index_col=None, header=0)\n",
        "\n",
        "\n",
        "# add a column 'Country' to diferentiate the data in the consilidated dataframe\n",
        "uk['Country']= 'UK'\n",
        "\n",
        "# check dataframe shape, dimensions after adding the new column\n",
        "print('Dataframe Shape: ', uk.shape)\n",
        "print('nb of columns: ', len(uk.columns))\n",
        "print('nb of rows: ', len(uk))\n",
        "\n",
        "# print column names \n",
        "print('column names: ', uk.columns)\n",
        "\n",
        "# visualize first rows\n",
        "uk.head()"
      ]
    },
    {
      "cell_type": "markdown",
      "metadata": {
        "id": "oVUypWR__dfa"
      },
      "source": [
        "## Single excel file with separate sheet by country"
      ]
    },
    {
      "cell_type": "markdown",
      "metadata": {
        "id": "1PfPXAglA_5-"
      },
      "source": [
        "Create an excel file where country would be on a separate sheet"
      ]
    },
    {
      "cell_type": "code",
      "execution_count": null,
      "metadata": {
        "id": "m9lLicSB_rER",
        "outputId": "968e1e76-d4f2-4a71-b9d3-53ecfa581a5e"
      },
      "outputs": [
        {
          "name": "stderr",
          "output_type": "stream",
          "text": [
            "/home/e57658/.local/lib/python3.9/site-packages/xlsxwriter/workbook.py:339: UserWarning: Calling close() on already closed file.\n",
            "  warn(\"Calling close() on already closed file.\")\n"
          ]
        }
      ],
      "source": [
        "# create excel writer in the Processed_Files folder with the name 'Consolidation_by_sheet'\n",
        "writer = pd.ExcelWriter('Processed_Files/Consolidated_by_sheet.xlsx')\n",
        "# write dataframe to excel sheet named 'marks'\n",
        "uk.to_excel(writer, 'UK')\n",
        "fr.to_excel(writer, 'FR')\n",
        "de.to_excel(writer, 'DE')\n",
        "\n",
        "# - > !!!! save and close the excel file (important)\n",
        "writer.save()\n",
        "writer.close()"
      ]
    },
    {
      "cell_type": "markdown",
      "metadata": {
        "id": "RyLObXdTBH1N"
      },
      "source": [
        "## Consolidate all excels into a single excel sheet"
      ]
    },
    {
      "cell_type": "code",
      "execution_count": null,
      "metadata": {
        "id": "qWGHukDy_dfb",
        "outputId": "20418685-f535-413a-f792-9aba93bc67d1"
      },
      "outputs": [
        {
          "name": "stdout",
          "output_type": "stream",
          "text": [
            "(1209, 34)\n"
          ]
        },
        {
          "data": {
            "text/html": [
              "<div>\n",
              "<style scoped>\n",
              "    .dataframe tbody tr th:only-of-type {\n",
              "        vertical-align: middle;\n",
              "    }\n",
              "\n",
              "    .dataframe tbody tr th {\n",
              "        vertical-align: top;\n",
              "    }\n",
              "\n",
              "    .dataframe thead th {\n",
              "        text-align: right;\n",
              "    }\n",
              "</style>\n",
              "<table border=\"1\" class=\"dataframe\">\n",
              "  <thead>\n",
              "    <tr style=\"text-align: right;\">\n",
              "      <th></th>\n",
              "      <th>Date</th>\n",
              "      <th>Name</th>\n",
              "      <th>Mannschaft</th>\n",
              "      <th>Rohe Präsenz (min)</th>\n",
              "      <th>Pause (Minuten)</th>\n",
              "      <th>Nettopräsenz (Min.)</th>\n",
              "      <th>Behandlung (min)</th>\n",
              "      <th>DMT</th>\n",
              "      <th>Productiviy</th>\n",
              "      <th>Processed tickets</th>\n",
              "      <th>Closed Tickets</th>\n",
              "      <th>FTE (processed)</th>\n",
              "      <th>FTE (presence)</th>\n",
              "      <th>FTE weighted</th>\n",
              "      <th>Country</th>\n",
              "      <th>Nom/Prénom</th>\n",
              "      <th>EQUIPE</th>\n",
              "      <th>Présence brute (min)</th>\n",
              "      <th>Pause (min)</th>\n",
              "      <th>Présente nette (min)</th>\n",
              "      <th>Traitement (min)</th>\n",
              "      <th>Productivité horaire</th>\n",
              "      <th>Tickets traités</th>\n",
              "      <th>Tickets clos</th>\n",
              "      <th>FTE (traitement)</th>\n",
              "      <th>FTE (présence)</th>\n",
              "      <th>FTE pondéré</th>\n",
              "      <th>Team</th>\n",
              "      <th>Presence</th>\n",
              "      <th>Presence net (min)</th>\n",
              "      <th>Processed (min)</th>\n",
              "      <th>Productivity hours</th>\n",
              "      <th>Closed tickets</th>\n",
              "      <th>FTE (process)</th>\n",
              "    </tr>\n",
              "  </thead>\n",
              "  <tbody>\n",
              "    <tr>\n",
              "      <th>0</th>\n",
              "      <td>2022-04-12</td>\n",
              "      <td>Employee_1</td>\n",
              "      <td>TEAM_1</td>\n",
              "      <td>102.0</td>\n",
              "      <td>0.0</td>\n",
              "      <td>102.0</td>\n",
              "      <td>4.0</td>\n",
              "      <td>00:02:08</td>\n",
              "      <td>0.6</td>\n",
              "      <td>2.0</td>\n",
              "      <td>1.0</td>\n",
              "      <td>0.00</td>\n",
              "      <td>0.25</td>\n",
              "      <td>0.00</td>\n",
              "      <td>DE</td>\n",
              "      <td>NaN</td>\n",
              "      <td>NaN</td>\n",
              "      <td>NaN</td>\n",
              "      <td>NaN</td>\n",
              "      <td>NaN</td>\n",
              "      <td>NaN</td>\n",
              "      <td>NaN</td>\n",
              "      <td>NaN</td>\n",
              "      <td>NaN</td>\n",
              "      <td>NaN</td>\n",
              "      <td>NaN</td>\n",
              "      <td>NaN</td>\n",
              "      <td>NaN</td>\n",
              "      <td>NaN</td>\n",
              "      <td>NaN</td>\n",
              "      <td>NaN</td>\n",
              "      <td>NaN</td>\n",
              "      <td>NaN</td>\n",
              "      <td>NaN</td>\n",
              "    </tr>\n",
              "    <tr>\n",
              "      <th>1</th>\n",
              "      <td>2022-04-13</td>\n",
              "      <td>Employee_1</td>\n",
              "      <td>TEAM_1</td>\n",
              "      <td>299.0</td>\n",
              "      <td>0.0</td>\n",
              "      <td>299.0</td>\n",
              "      <td>168.0</td>\n",
              "      <td>00:42:00</td>\n",
              "      <td>0.4</td>\n",
              "      <td>4.0</td>\n",
              "      <td>2.0</td>\n",
              "      <td>0.50</td>\n",
              "      <td>0.75</td>\n",
              "      <td>0.50</td>\n",
              "      <td>DE</td>\n",
              "      <td>NaN</td>\n",
              "      <td>NaN</td>\n",
              "      <td>NaN</td>\n",
              "      <td>NaN</td>\n",
              "      <td>NaN</td>\n",
              "      <td>NaN</td>\n",
              "      <td>NaN</td>\n",
              "      <td>NaN</td>\n",
              "      <td>NaN</td>\n",
              "      <td>NaN</td>\n",
              "      <td>NaN</td>\n",
              "      <td>NaN</td>\n",
              "      <td>NaN</td>\n",
              "      <td>NaN</td>\n",
              "      <td>NaN</td>\n",
              "      <td>NaN</td>\n",
              "      <td>NaN</td>\n",
              "      <td>NaN</td>\n",
              "      <td>NaN</td>\n",
              "    </tr>\n",
              "    <tr>\n",
              "      <th>2</th>\n",
              "      <td>2022-04-19</td>\n",
              "      <td>Employee_1</td>\n",
              "      <td>TEAM_1</td>\n",
              "      <td>478.0</td>\n",
              "      <td>0.0</td>\n",
              "      <td>478.0</td>\n",
              "      <td>275.0</td>\n",
              "      <td>00:16:12</td>\n",
              "      <td>2.0</td>\n",
              "      <td>17.0</td>\n",
              "      <td>16.0</td>\n",
              "      <td>0.75</td>\n",
              "      <td>1.00</td>\n",
              "      <td>0.75</td>\n",
              "      <td>DE</td>\n",
              "      <td>NaN</td>\n",
              "      <td>NaN</td>\n",
              "      <td>NaN</td>\n",
              "      <td>NaN</td>\n",
              "      <td>NaN</td>\n",
              "      <td>NaN</td>\n",
              "      <td>NaN</td>\n",
              "      <td>NaN</td>\n",
              "      <td>NaN</td>\n",
              "      <td>NaN</td>\n",
              "      <td>NaN</td>\n",
              "      <td>NaN</td>\n",
              "      <td>NaN</td>\n",
              "      <td>NaN</td>\n",
              "      <td>NaN</td>\n",
              "      <td>NaN</td>\n",
              "      <td>NaN</td>\n",
              "      <td>NaN</td>\n",
              "      <td>NaN</td>\n",
              "    </tr>\n",
              "    <tr>\n",
              "      <th>3</th>\n",
              "      <td>2022-04-20</td>\n",
              "      <td>Employee_1</td>\n",
              "      <td>TEAM_1</td>\n",
              "      <td>427.0</td>\n",
              "      <td>0.0</td>\n",
              "      <td>427.0</td>\n",
              "      <td>142.0</td>\n",
              "      <td>00:12:56</td>\n",
              "      <td>1.4</td>\n",
              "      <td>11.0</td>\n",
              "      <td>10.0</td>\n",
              "      <td>0.50</td>\n",
              "      <td>1.00</td>\n",
              "      <td>0.50</td>\n",
              "      <td>DE</td>\n",
              "      <td>NaN</td>\n",
              "      <td>NaN</td>\n",
              "      <td>NaN</td>\n",
              "      <td>NaN</td>\n",
              "      <td>NaN</td>\n",
              "      <td>NaN</td>\n",
              "      <td>NaN</td>\n",
              "      <td>NaN</td>\n",
              "      <td>NaN</td>\n",
              "      <td>NaN</td>\n",
              "      <td>NaN</td>\n",
              "      <td>NaN</td>\n",
              "      <td>NaN</td>\n",
              "      <td>NaN</td>\n",
              "      <td>NaN</td>\n",
              "      <td>NaN</td>\n",
              "      <td>NaN</td>\n",
              "      <td>NaN</td>\n",
              "      <td>NaN</td>\n",
              "    </tr>\n",
              "    <tr>\n",
              "      <th>4</th>\n",
              "      <td>2022-04-21</td>\n",
              "      <td>Employee_1</td>\n",
              "      <td>TEAM_1</td>\n",
              "      <td>482.0</td>\n",
              "      <td>0.0</td>\n",
              "      <td>482.0</td>\n",
              "      <td>129.0</td>\n",
              "      <td>00:16:12</td>\n",
              "      <td>1.0</td>\n",
              "      <td>8.0</td>\n",
              "      <td>8.0</td>\n",
              "      <td>0.50</td>\n",
              "      <td>1.00</td>\n",
              "      <td>0.50</td>\n",
              "      <td>DE</td>\n",
              "      <td>NaN</td>\n",
              "      <td>NaN</td>\n",
              "      <td>NaN</td>\n",
              "      <td>NaN</td>\n",
              "      <td>NaN</td>\n",
              "      <td>NaN</td>\n",
              "      <td>NaN</td>\n",
              "      <td>NaN</td>\n",
              "      <td>NaN</td>\n",
              "      <td>NaN</td>\n",
              "      <td>NaN</td>\n",
              "      <td>NaN</td>\n",
              "      <td>NaN</td>\n",
              "      <td>NaN</td>\n",
              "      <td>NaN</td>\n",
              "      <td>NaN</td>\n",
              "      <td>NaN</td>\n",
              "      <td>NaN</td>\n",
              "      <td>NaN</td>\n",
              "    </tr>\n",
              "  </tbody>\n",
              "</table>\n",
              "</div>"
            ],
            "text/plain": [
              "        Date        Name Mannschaft  Rohe Präsenz (min)  Pause (Minuten)  \\\n",
              "0 2022-04-12  Employee_1     TEAM_1               102.0              0.0   \n",
              "1 2022-04-13  Employee_1     TEAM_1               299.0              0.0   \n",
              "2 2022-04-19  Employee_1     TEAM_1               478.0              0.0   \n",
              "3 2022-04-20  Employee_1     TEAM_1               427.0              0.0   \n",
              "4 2022-04-21  Employee_1     TEAM_1               482.0              0.0   \n",
              "\n",
              "   Nettopräsenz (Min.)  Behandlung (min)       DMT  Productiviy  \\\n",
              "0                102.0               4.0  00:02:08          0.6   \n",
              "1                299.0             168.0  00:42:00          0.4   \n",
              "2                478.0             275.0  00:16:12          2.0   \n",
              "3                427.0             142.0  00:12:56          1.4   \n",
              "4                482.0             129.0  00:16:12          1.0   \n",
              "\n",
              "   Processed tickets  Closed Tickets  FTE (processed)  FTE (presence)  \\\n",
              "0                2.0             1.0             0.00            0.25   \n",
              "1                4.0             2.0             0.50            0.75   \n",
              "2               17.0            16.0             0.75            1.00   \n",
              "3               11.0            10.0             0.50            1.00   \n",
              "4                8.0             8.0             0.50            1.00   \n",
              "\n",
              "   FTE weighted Country Nom/Prénom EQUIPE  Présence brute (min)  Pause (min)  \\\n",
              "0          0.00      DE        NaN    NaN                   NaN          NaN   \n",
              "1          0.50      DE        NaN    NaN                   NaN          NaN   \n",
              "2          0.75      DE        NaN    NaN                   NaN          NaN   \n",
              "3          0.50      DE        NaN    NaN                   NaN          NaN   \n",
              "4          0.50      DE        NaN    NaN                   NaN          NaN   \n",
              "\n",
              "   Présente nette (min)  Traitement (min)  Productivité horaire  \\\n",
              "0                   NaN               NaN                   NaN   \n",
              "1                   NaN               NaN                   NaN   \n",
              "2                   NaN               NaN                   NaN   \n",
              "3                   NaN               NaN                   NaN   \n",
              "4                   NaN               NaN                   NaN   \n",
              "\n",
              "   Tickets traités  Tickets clos  FTE (traitement)  FTE (présence)  \\\n",
              "0              NaN           NaN               NaN             NaN   \n",
              "1              NaN           NaN               NaN             NaN   \n",
              "2              NaN           NaN               NaN             NaN   \n",
              "3              NaN           NaN               NaN             NaN   \n",
              "4              NaN           NaN               NaN             NaN   \n",
              "\n",
              "   FTE pondéré Team  Presence  Presence net (min)  Processed (min)  \\\n",
              "0          NaN  NaN       NaN                 NaN              NaN   \n",
              "1          NaN  NaN       NaN                 NaN              NaN   \n",
              "2          NaN  NaN       NaN                 NaN              NaN   \n",
              "3          NaN  NaN       NaN                 NaN              NaN   \n",
              "4          NaN  NaN       NaN                 NaN              NaN   \n",
              "\n",
              "   Productivity hours  Closed tickets  FTE (process)  \n",
              "0                 NaN             NaN            NaN  \n",
              "1                 NaN             NaN            NaN  \n",
              "2                 NaN             NaN            NaN  \n",
              "3                 NaN             NaN            NaN  \n",
              "4                 NaN             NaN            NaN  "
            ]
          },
          "execution_count": 39,
          "metadata": {},
          "output_type": "execute_result"
        }
      ],
      "source": [
        "frames = [de, fr, uk]\n",
        "\n",
        "df_concat = pd.concat(frames)\n",
        "\n",
        "print(df_concat.shape)\n",
        "\n",
        "# display first rows\n",
        "df_concat.head()"
      ]
    },
    {
      "cell_type": "code",
      "execution_count": null,
      "metadata": {
        "id": "uCKOn1kI_dfb",
        "outputId": "2ada7f86-eb1a-45b0-8f5d-0af2d9871fd7"
      },
      "outputs": [
        {
          "data": {
            "text/html": [
              "<div>\n",
              "<style scoped>\n",
              "    .dataframe tbody tr th:only-of-type {\n",
              "        vertical-align: middle;\n",
              "    }\n",
              "\n",
              "    .dataframe tbody tr th {\n",
              "        vertical-align: top;\n",
              "    }\n",
              "\n",
              "    .dataframe thead th {\n",
              "        text-align: right;\n",
              "    }\n",
              "</style>\n",
              "<table border=\"1\" class=\"dataframe\">\n",
              "  <thead>\n",
              "    <tr style=\"text-align: right;\">\n",
              "      <th></th>\n",
              "      <th>Date</th>\n",
              "      <th>Name</th>\n",
              "      <th>Mannschaft</th>\n",
              "      <th>Rohe Präsenz (min)</th>\n",
              "      <th>Pause (Minuten)</th>\n",
              "      <th>Nettopräsenz (Min.)</th>\n",
              "      <th>Behandlung (min)</th>\n",
              "      <th>DMT</th>\n",
              "      <th>Productiviy</th>\n",
              "      <th>Processed tickets</th>\n",
              "      <th>Closed Tickets</th>\n",
              "      <th>FTE (processed)</th>\n",
              "      <th>FTE (presence)</th>\n",
              "      <th>FTE weighted</th>\n",
              "      <th>Country</th>\n",
              "      <th>Nom/Prénom</th>\n",
              "      <th>EQUIPE</th>\n",
              "      <th>Présence brute (min)</th>\n",
              "      <th>Pause (min)</th>\n",
              "      <th>Présente nette (min)</th>\n",
              "      <th>Traitement (min)</th>\n",
              "      <th>Productivité horaire</th>\n",
              "      <th>Tickets traités</th>\n",
              "      <th>Tickets clos</th>\n",
              "      <th>FTE (traitement)</th>\n",
              "      <th>FTE (présence)</th>\n",
              "      <th>FTE pondéré</th>\n",
              "      <th>Team</th>\n",
              "      <th>Presence</th>\n",
              "      <th>Presence net (min)</th>\n",
              "      <th>Processed (min)</th>\n",
              "      <th>Productivity hours</th>\n",
              "      <th>Closed tickets</th>\n",
              "      <th>FTE (process)</th>\n",
              "    </tr>\n",
              "  </thead>\n",
              "  <tbody>\n",
              "    <tr>\n",
              "      <th>264</th>\n",
              "      <td>2022-04-14</td>\n",
              "      <td>Employee_24</td>\n",
              "      <td>NaN</td>\n",
              "      <td>NaN</td>\n",
              "      <td>NaN</td>\n",
              "      <td>NaN</td>\n",
              "      <td>NaN</td>\n",
              "      <td>NaN</td>\n",
              "      <td>NaN</td>\n",
              "      <td>0.0</td>\n",
              "      <td>NaN</td>\n",
              "      <td>NaN</td>\n",
              "      <td>0.5</td>\n",
              "      <td>0.00</td>\n",
              "      <td>UK</td>\n",
              "      <td>NaN</td>\n",
              "      <td>NaN</td>\n",
              "      <td>NaN</td>\n",
              "      <td>0.0</td>\n",
              "      <td>NaN</td>\n",
              "      <td>NaN</td>\n",
              "      <td>NaN</td>\n",
              "      <td>NaN</td>\n",
              "      <td>NaN</td>\n",
              "      <td>NaN</td>\n",
              "      <td>NaN</td>\n",
              "      <td>NaN</td>\n",
              "      <td>TEAM_4</td>\n",
              "      <td>123.00</td>\n",
              "      <td>123.0</td>\n",
              "      <td>0.0</td>\n",
              "      <td>0.0</td>\n",
              "      <td>0.0</td>\n",
              "      <td>0.00</td>\n",
              "    </tr>\n",
              "    <tr>\n",
              "      <th>265</th>\n",
              "      <td>2022-04-24</td>\n",
              "      <td>Employee_24</td>\n",
              "      <td>NaN</td>\n",
              "      <td>NaN</td>\n",
              "      <td>NaN</td>\n",
              "      <td>NaN</td>\n",
              "      <td>NaN</td>\n",
              "      <td>0.008461</td>\n",
              "      <td>NaN</td>\n",
              "      <td>3.0</td>\n",
              "      <td>NaN</td>\n",
              "      <td>NaN</td>\n",
              "      <td>0.5</td>\n",
              "      <td>0.00</td>\n",
              "      <td>UK</td>\n",
              "      <td>NaN</td>\n",
              "      <td>NaN</td>\n",
              "      <td>NaN</td>\n",
              "      <td>0.0</td>\n",
              "      <td>NaN</td>\n",
              "      <td>NaN</td>\n",
              "      <td>NaN</td>\n",
              "      <td>NaN</td>\n",
              "      <td>NaN</td>\n",
              "      <td>NaN</td>\n",
              "      <td>NaN</td>\n",
              "      <td>NaN</td>\n",
              "      <td>TEAM_4</td>\n",
              "      <td>184.00</td>\n",
              "      <td>184.0</td>\n",
              "      <td>36.0</td>\n",
              "      <td>1.3</td>\n",
              "      <td>3.0</td>\n",
              "      <td>0.00</td>\n",
              "    </tr>\n",
              "    <tr>\n",
              "      <th>266</th>\n",
              "      <td>2022-04-29</td>\n",
              "      <td>Employee_24</td>\n",
              "      <td>NaN</td>\n",
              "      <td>NaN</td>\n",
              "      <td>NaN</td>\n",
              "      <td>NaN</td>\n",
              "      <td>NaN</td>\n",
              "      <td>0.003194</td>\n",
              "      <td>NaN</td>\n",
              "      <td>14.0</td>\n",
              "      <td>NaN</td>\n",
              "      <td>NaN</td>\n",
              "      <td>1.0</td>\n",
              "      <td>0.25</td>\n",
              "      <td>UK</td>\n",
              "      <td>NaN</td>\n",
              "      <td>NaN</td>\n",
              "      <td>NaN</td>\n",
              "      <td>0.0</td>\n",
              "      <td>NaN</td>\n",
              "      <td>NaN</td>\n",
              "      <td>NaN</td>\n",
              "      <td>NaN</td>\n",
              "      <td>NaN</td>\n",
              "      <td>NaN</td>\n",
              "      <td>NaN</td>\n",
              "      <td>NaN</td>\n",
              "      <td>TEAM_4</td>\n",
              "      <td>441.00</td>\n",
              "      <td>441.0</td>\n",
              "      <td>64.0</td>\n",
              "      <td>1.5</td>\n",
              "      <td>11.0</td>\n",
              "      <td>0.25</td>\n",
              "    </tr>\n",
              "    <tr>\n",
              "      <th>267</th>\n",
              "      <td>2022-04-24</td>\n",
              "      <td>Employee_25</td>\n",
              "      <td>NaN</td>\n",
              "      <td>NaN</td>\n",
              "      <td>NaN</td>\n",
              "      <td>NaN</td>\n",
              "      <td>NaN</td>\n",
              "      <td>0.008461</td>\n",
              "      <td>NaN</td>\n",
              "      <td>3.0</td>\n",
              "      <td>NaN</td>\n",
              "      <td>NaN</td>\n",
              "      <td>0.5</td>\n",
              "      <td>0.00</td>\n",
              "      <td>UK</td>\n",
              "      <td>NaN</td>\n",
              "      <td>NaN</td>\n",
              "      <td>NaN</td>\n",
              "      <td>0.0</td>\n",
              "      <td>NaN</td>\n",
              "      <td>NaN</td>\n",
              "      <td>NaN</td>\n",
              "      <td>NaN</td>\n",
              "      <td>NaN</td>\n",
              "      <td>NaN</td>\n",
              "      <td>NaN</td>\n",
              "      <td>NaN</td>\n",
              "      <td>TEAM_5</td>\n",
              "      <td>1.60</td>\n",
              "      <td>184.0</td>\n",
              "      <td>36.0</td>\n",
              "      <td>1.3</td>\n",
              "      <td>3.0</td>\n",
              "      <td>0.00</td>\n",
              "    </tr>\n",
              "    <tr>\n",
              "      <th>268</th>\n",
              "      <td>2022-04-29</td>\n",
              "      <td>Employee_26</td>\n",
              "      <td>NaN</td>\n",
              "      <td>NaN</td>\n",
              "      <td>NaN</td>\n",
              "      <td>NaN</td>\n",
              "      <td>NaN</td>\n",
              "      <td>0.003194</td>\n",
              "      <td>NaN</td>\n",
              "      <td>14.0</td>\n",
              "      <td>NaN</td>\n",
              "      <td>NaN</td>\n",
              "      <td>1.0</td>\n",
              "      <td>0.25</td>\n",
              "      <td>UK</td>\n",
              "      <td>NaN</td>\n",
              "      <td>NaN</td>\n",
              "      <td>NaN</td>\n",
              "      <td>0.0</td>\n",
              "      <td>NaN</td>\n",
              "      <td>NaN</td>\n",
              "      <td>NaN</td>\n",
              "      <td>NaN</td>\n",
              "      <td>NaN</td>\n",
              "      <td>NaN</td>\n",
              "      <td>NaN</td>\n",
              "      <td>NaN</td>\n",
              "      <td>TEAM_5</td>\n",
              "      <td>3.41</td>\n",
              "      <td>441.0</td>\n",
              "      <td>64.0</td>\n",
              "      <td>1.5</td>\n",
              "      <td>11.0</td>\n",
              "      <td>0.25</td>\n",
              "    </tr>\n",
              "  </tbody>\n",
              "</table>\n",
              "</div>"
            ],
            "text/plain": [
              "          Date         Name Mannschaft  Rohe Präsenz (min)  Pause (Minuten)  \\\n",
              "264 2022-04-14  Employee_24        NaN                 NaN              NaN   \n",
              "265 2022-04-24  Employee_24        NaN                 NaN              NaN   \n",
              "266 2022-04-29  Employee_24        NaN                 NaN              NaN   \n",
              "267 2022-04-24  Employee_25        NaN                 NaN              NaN   \n",
              "268 2022-04-29  Employee_26        NaN                 NaN              NaN   \n",
              "\n",
              "     Nettopräsenz (Min.)  Behandlung (min)       DMT  Productiviy  \\\n",
              "264                  NaN               NaN       NaN          NaN   \n",
              "265                  NaN               NaN  0.008461          NaN   \n",
              "266                  NaN               NaN  0.003194          NaN   \n",
              "267                  NaN               NaN  0.008461          NaN   \n",
              "268                  NaN               NaN  0.003194          NaN   \n",
              "\n",
              "     Processed tickets  Closed Tickets  FTE (processed)  FTE (presence)  \\\n",
              "264                0.0             NaN              NaN             0.5   \n",
              "265                3.0             NaN              NaN             0.5   \n",
              "266               14.0             NaN              NaN             1.0   \n",
              "267                3.0             NaN              NaN             0.5   \n",
              "268               14.0             NaN              NaN             1.0   \n",
              "\n",
              "     FTE weighted Country Nom/Prénom EQUIPE  Présence brute (min)  \\\n",
              "264          0.00      UK        NaN    NaN                   NaN   \n",
              "265          0.00      UK        NaN    NaN                   NaN   \n",
              "266          0.25      UK        NaN    NaN                   NaN   \n",
              "267          0.00      UK        NaN    NaN                   NaN   \n",
              "268          0.25      UK        NaN    NaN                   NaN   \n",
              "\n",
              "     Pause (min)  Présente nette (min)  Traitement (min)  \\\n",
              "264          0.0                   NaN               NaN   \n",
              "265          0.0                   NaN               NaN   \n",
              "266          0.0                   NaN               NaN   \n",
              "267          0.0                   NaN               NaN   \n",
              "268          0.0                   NaN               NaN   \n",
              "\n",
              "     Productivité horaire  Tickets traités  Tickets clos  FTE (traitement)  \\\n",
              "264                   NaN              NaN           NaN               NaN   \n",
              "265                   NaN              NaN           NaN               NaN   \n",
              "266                   NaN              NaN           NaN               NaN   \n",
              "267                   NaN              NaN           NaN               NaN   \n",
              "268                   NaN              NaN           NaN               NaN   \n",
              "\n",
              "     FTE (présence)  FTE pondéré    Team  Presence  Presence net (min)  \\\n",
              "264             NaN          NaN  TEAM_4    123.00               123.0   \n",
              "265             NaN          NaN  TEAM_4    184.00               184.0   \n",
              "266             NaN          NaN  TEAM_4    441.00               441.0   \n",
              "267             NaN          NaN  TEAM_5      1.60               184.0   \n",
              "268             NaN          NaN  TEAM_5      3.41               441.0   \n",
              "\n",
              "     Processed (min)  Productivity hours  Closed tickets  FTE (process)  \n",
              "264              0.0                 0.0             0.0           0.00  \n",
              "265             36.0                 1.3             3.0           0.00  \n",
              "266             64.0                 1.5            11.0           0.25  \n",
              "267             36.0                 1.3             3.0           0.00  \n",
              "268             64.0                 1.5            11.0           0.25  "
            ]
          },
          "execution_count": 40,
          "metadata": {},
          "output_type": "execute_result"
        }
      ],
      "source": [
        "# diplay last rows\n",
        "df_concat.tail()"
      ]
    },
    {
      "cell_type": "code",
      "execution_count": null,
      "metadata": {
        "id": "t_eBZayU_dfc",
        "outputId": "06ded3c9-76f8-41a4-e980-41f35076b54e"
      },
      "outputs": [
        {
          "name": "stdout",
          "output_type": "stream",
          "text": [
            "Column nb of DE:  15 Index(['Date', 'Name', 'Mannschaft', 'Rohe Präsenz (min)', 'Pause (Minuten)',\n",
            "       'Nettopräsenz (Min.)', 'Behandlung (min)', 'DMT', 'Productiviy',\n",
            "       'Processed tickets', 'Closed Tickets', 'FTE (processed)',\n",
            "       'FTE (presence)', 'FTE weighted', 'Country'],\n",
            "      dtype='object')\n",
            "Column nb of FR:  15 Index(['Date', 'Nom/Prénom', 'EQUIPE', 'Présence brute (min)', 'Pause (min)',\n",
            "       'Présente nette (min)', 'Traitement (min)', 'DMT',\n",
            "       'Productivité horaire', 'Tickets traités', 'Tickets clos',\n",
            "       'FTE (traitement)', 'FTE (présence)', 'FTE pondéré', 'Country'],\n",
            "      dtype='object')\n",
            "Column nb of UK:  15 Index(['Date', 'Name', 'Team', 'Presence', 'Pause (min)', 'Presence net (min)',\n",
            "       'Processed (min)', 'DMT', 'Productivity hours', 'Processed tickets',\n",
            "       'Closed tickets', 'FTE (process)', 'FTE (presence)', 'FTE weighted',\n",
            "       'Country'],\n",
            "      dtype='object')\n"
          ]
        }
      ],
      "source": [
        "# to consolidate multiple dataframes, there are 3 rules:\n",
        "# they have to have the same nb of columns (here all 3 df have 15 columns)\n",
        "# to concatenate by column names, all df have to have the same column names\n",
        "# the dfs must have same column order\n",
        "\n",
        "print(\"Column nb of DE: \", len(de.columns), de.columns)\n",
        "print(\"Column nb of FR: \", len(fr.columns), fr.columns)\n",
        "print(\"Column nb of UK: \", len(uk.columns), uk.columns)"
      ]
    },
    {
      "cell_type": "code",
      "execution_count": null,
      "metadata": {
        "id": "ncF6rqze_dfc",
        "outputId": "231f9f70-da4c-4fce-e73e-4ce9fc790f23"
      },
      "outputs": [
        {
          "name": "stdout",
          "output_type": "stream",
          "text": [
            "Column nb of DE:  15 Index(['Date', 'Name', 'Team', 'Presence', 'Pause (min)', 'Presence net (min)',\n",
            "       'Processed (min)', 'DMT', 'Productivity hours', 'Processed tickets',\n",
            "       'Closed tickets', 'FTE (process)', 'FTE (presence)', 'FTE weighted',\n",
            "       'Country'],\n",
            "      dtype='object')\n",
            "Column nb of FR:  15 Index(['Date', 'Name', 'Team', 'Presence', 'Pause (min)', 'Presence net (min)',\n",
            "       'Processed (min)', 'DMT', 'Productivity hours', 'Processed tickets',\n",
            "       'Closed tickets', 'FTE (process)', 'FTE (presence)', 'FTE weighted',\n",
            "       'Country'],\n",
            "      dtype='object')\n",
            "Column nb of UK:  15 Index(['Date', 'Name', 'Team', 'Presence', 'Pause (min)', 'Presence net (min)',\n",
            "       'Processed (min)', 'DMT', 'Productivity hours', 'Processed tickets',\n",
            "       'Closed tickets', 'FTE (process)', 'FTE (presence)', 'FTE weighted',\n",
            "       'Country'],\n",
            "      dtype='object')\n"
          ]
        }
      ],
      "source": [
        "# rename the dfs columns o they would be identical\n",
        "# we will use english column names for all dfs\n",
        "\n",
        "columns = uk.columns\n",
        "\n",
        "fr.columns = columns\n",
        "de.columns = columns\n",
        "\n",
        "print(\"Column nb of DE: \", len(de.columns), de.columns)\n",
        "print(\"Column nb of FR: \", len(fr.columns), fr.columns)\n",
        "print(\"Column nb of UK: \", len(uk.columns), uk.columns)"
      ]
    },
    {
      "cell_type": "code",
      "execution_count": null,
      "metadata": {
        "id": "sLHprNJd_dfd",
        "outputId": "beb05fef-d824-401a-bb72-16ba7289c6f3"
      },
      "outputs": [
        {
          "name": "stdout",
          "output_type": "stream",
          "text": [
            "(1209, 15)\n"
          ]
        },
        {
          "data": {
            "text/html": [
              "<div>\n",
              "<style scoped>\n",
              "    .dataframe tbody tr th:only-of-type {\n",
              "        vertical-align: middle;\n",
              "    }\n",
              "\n",
              "    .dataframe tbody tr th {\n",
              "        vertical-align: top;\n",
              "    }\n",
              "\n",
              "    .dataframe thead th {\n",
              "        text-align: right;\n",
              "    }\n",
              "</style>\n",
              "<table border=\"1\" class=\"dataframe\">\n",
              "  <thead>\n",
              "    <tr style=\"text-align: right;\">\n",
              "      <th></th>\n",
              "      <th>Date</th>\n",
              "      <th>Name</th>\n",
              "      <th>Team</th>\n",
              "      <th>Presence</th>\n",
              "      <th>Pause (min)</th>\n",
              "      <th>Presence net (min)</th>\n",
              "      <th>Processed (min)</th>\n",
              "      <th>DMT</th>\n",
              "      <th>Productivity hours</th>\n",
              "      <th>Processed tickets</th>\n",
              "      <th>Closed tickets</th>\n",
              "      <th>FTE (process)</th>\n",
              "      <th>FTE (presence)</th>\n",
              "      <th>FTE weighted</th>\n",
              "      <th>Country</th>\n",
              "    </tr>\n",
              "  </thead>\n",
              "  <tbody>\n",
              "    <tr>\n",
              "      <th>0</th>\n",
              "      <td>2022-04-12</td>\n",
              "      <td>Employee_1</td>\n",
              "      <td>TEAM_1</td>\n",
              "      <td>102.0</td>\n",
              "      <td>0.0</td>\n",
              "      <td>102</td>\n",
              "      <td>4</td>\n",
              "      <td>00:02:08</td>\n",
              "      <td>0.6</td>\n",
              "      <td>2</td>\n",
              "      <td>1</td>\n",
              "      <td>0.00</td>\n",
              "      <td>0.25</td>\n",
              "      <td>0.00</td>\n",
              "      <td>DE</td>\n",
              "    </tr>\n",
              "    <tr>\n",
              "      <th>1</th>\n",
              "      <td>2022-04-13</td>\n",
              "      <td>Employee_1</td>\n",
              "      <td>TEAM_1</td>\n",
              "      <td>299.0</td>\n",
              "      <td>0.0</td>\n",
              "      <td>299</td>\n",
              "      <td>168</td>\n",
              "      <td>00:42:00</td>\n",
              "      <td>0.4</td>\n",
              "      <td>4</td>\n",
              "      <td>2</td>\n",
              "      <td>0.50</td>\n",
              "      <td>0.75</td>\n",
              "      <td>0.50</td>\n",
              "      <td>DE</td>\n",
              "    </tr>\n",
              "    <tr>\n",
              "      <th>2</th>\n",
              "      <td>2022-04-19</td>\n",
              "      <td>Employee_1</td>\n",
              "      <td>TEAM_1</td>\n",
              "      <td>478.0</td>\n",
              "      <td>0.0</td>\n",
              "      <td>478</td>\n",
              "      <td>275</td>\n",
              "      <td>00:16:12</td>\n",
              "      <td>2.0</td>\n",
              "      <td>17</td>\n",
              "      <td>16</td>\n",
              "      <td>0.75</td>\n",
              "      <td>1.00</td>\n",
              "      <td>0.75</td>\n",
              "      <td>DE</td>\n",
              "    </tr>\n",
              "    <tr>\n",
              "      <th>3</th>\n",
              "      <td>2022-04-20</td>\n",
              "      <td>Employee_1</td>\n",
              "      <td>TEAM_1</td>\n",
              "      <td>427.0</td>\n",
              "      <td>0.0</td>\n",
              "      <td>427</td>\n",
              "      <td>142</td>\n",
              "      <td>00:12:56</td>\n",
              "      <td>1.4</td>\n",
              "      <td>11</td>\n",
              "      <td>10</td>\n",
              "      <td>0.50</td>\n",
              "      <td>1.00</td>\n",
              "      <td>0.50</td>\n",
              "      <td>DE</td>\n",
              "    </tr>\n",
              "    <tr>\n",
              "      <th>4</th>\n",
              "      <td>2022-04-21</td>\n",
              "      <td>Employee_1</td>\n",
              "      <td>TEAM_1</td>\n",
              "      <td>482.0</td>\n",
              "      <td>0.0</td>\n",
              "      <td>482</td>\n",
              "      <td>129</td>\n",
              "      <td>00:16:12</td>\n",
              "      <td>1.0</td>\n",
              "      <td>8</td>\n",
              "      <td>8</td>\n",
              "      <td>0.50</td>\n",
              "      <td>1.00</td>\n",
              "      <td>0.50</td>\n",
              "      <td>DE</td>\n",
              "    </tr>\n",
              "  </tbody>\n",
              "</table>\n",
              "</div>"
            ],
            "text/plain": [
              "        Date        Name    Team  Presence  Pause (min)  Presence net (min)  \\\n",
              "0 2022-04-12  Employee_1  TEAM_1     102.0          0.0                 102   \n",
              "1 2022-04-13  Employee_1  TEAM_1     299.0          0.0                 299   \n",
              "2 2022-04-19  Employee_1  TEAM_1     478.0          0.0                 478   \n",
              "3 2022-04-20  Employee_1  TEAM_1     427.0          0.0                 427   \n",
              "4 2022-04-21  Employee_1  TEAM_1     482.0          0.0                 482   \n",
              "\n",
              "   Processed (min)       DMT  Productivity hours  Processed tickets  \\\n",
              "0                4  00:02:08                 0.6                  2   \n",
              "1              168  00:42:00                 0.4                  4   \n",
              "2              275  00:16:12                 2.0                 17   \n",
              "3              142  00:12:56                 1.4                 11   \n",
              "4              129  00:16:12                 1.0                  8   \n",
              "\n",
              "   Closed tickets  FTE (process)  FTE (presence)  FTE weighted Country  \n",
              "0               1           0.00            0.25          0.00      DE  \n",
              "1               2           0.50            0.75          0.50      DE  \n",
              "2              16           0.75            1.00          0.75      DE  \n",
              "3              10           0.50            1.00          0.50      DE  \n",
              "4               8           0.50            1.00          0.50      DE  "
            ]
          },
          "execution_count": 43,
          "metadata": {},
          "output_type": "execute_result"
        }
      ],
      "source": [
        "# this time the concatenation of dfs is correct\n",
        "\n",
        "df_concat = pd.concat(frames)\n",
        "\n",
        "print(df_concat.shape)\n",
        "df_concat.head()"
      ]
    },
    {
      "cell_type": "code",
      "execution_count": null,
      "metadata": {
        "id": "AY7QuVbE_dfd",
        "outputId": "60c50b23-0aab-4272-932b-42e79576564e"
      },
      "outputs": [
        {
          "data": {
            "text/html": [
              "<div>\n",
              "<style scoped>\n",
              "    .dataframe tbody tr th:only-of-type {\n",
              "        vertical-align: middle;\n",
              "    }\n",
              "\n",
              "    .dataframe tbody tr th {\n",
              "        vertical-align: top;\n",
              "    }\n",
              "\n",
              "    .dataframe thead th {\n",
              "        text-align: right;\n",
              "    }\n",
              "</style>\n",
              "<table border=\"1\" class=\"dataframe\">\n",
              "  <thead>\n",
              "    <tr style=\"text-align: right;\">\n",
              "      <th></th>\n",
              "      <th>Date</th>\n",
              "      <th>Name</th>\n",
              "      <th>Team</th>\n",
              "      <th>Presence</th>\n",
              "      <th>Pause (min)</th>\n",
              "      <th>Presence net (min)</th>\n",
              "      <th>Processed (min)</th>\n",
              "      <th>DMT</th>\n",
              "      <th>Productivity hours</th>\n",
              "      <th>Processed tickets</th>\n",
              "      <th>Closed tickets</th>\n",
              "      <th>FTE (process)</th>\n",
              "      <th>FTE (presence)</th>\n",
              "      <th>FTE weighted</th>\n",
              "      <th>Country</th>\n",
              "    </tr>\n",
              "  </thead>\n",
              "  <tbody>\n",
              "    <tr>\n",
              "      <th>264</th>\n",
              "      <td>2022-04-14</td>\n",
              "      <td>Employee_24</td>\n",
              "      <td>TEAM_4</td>\n",
              "      <td>123.00</td>\n",
              "      <td>0.0</td>\n",
              "      <td>123</td>\n",
              "      <td>0</td>\n",
              "      <td>NaN</td>\n",
              "      <td>0.0</td>\n",
              "      <td>0</td>\n",
              "      <td>0</td>\n",
              "      <td>0.00</td>\n",
              "      <td>0.5</td>\n",
              "      <td>0.00</td>\n",
              "      <td>UK</td>\n",
              "    </tr>\n",
              "    <tr>\n",
              "      <th>265</th>\n",
              "      <td>2022-04-24</td>\n",
              "      <td>Employee_24</td>\n",
              "      <td>TEAM_4</td>\n",
              "      <td>184.00</td>\n",
              "      <td>0.0</td>\n",
              "      <td>184</td>\n",
              "      <td>36</td>\n",
              "      <td>0.008461</td>\n",
              "      <td>1.3</td>\n",
              "      <td>3</td>\n",
              "      <td>3</td>\n",
              "      <td>0.00</td>\n",
              "      <td>0.5</td>\n",
              "      <td>0.00</td>\n",
              "      <td>UK</td>\n",
              "    </tr>\n",
              "    <tr>\n",
              "      <th>266</th>\n",
              "      <td>2022-04-29</td>\n",
              "      <td>Employee_24</td>\n",
              "      <td>TEAM_4</td>\n",
              "      <td>441.00</td>\n",
              "      <td>0.0</td>\n",
              "      <td>441</td>\n",
              "      <td>64</td>\n",
              "      <td>0.003194</td>\n",
              "      <td>1.5</td>\n",
              "      <td>14</td>\n",
              "      <td>11</td>\n",
              "      <td>0.25</td>\n",
              "      <td>1.0</td>\n",
              "      <td>0.25</td>\n",
              "      <td>UK</td>\n",
              "    </tr>\n",
              "    <tr>\n",
              "      <th>267</th>\n",
              "      <td>2022-04-24</td>\n",
              "      <td>Employee_25</td>\n",
              "      <td>TEAM_5</td>\n",
              "      <td>1.60</td>\n",
              "      <td>0.0</td>\n",
              "      <td>184</td>\n",
              "      <td>36</td>\n",
              "      <td>0.008461</td>\n",
              "      <td>1.3</td>\n",
              "      <td>3</td>\n",
              "      <td>3</td>\n",
              "      <td>0.00</td>\n",
              "      <td>0.5</td>\n",
              "      <td>0.00</td>\n",
              "      <td>UK</td>\n",
              "    </tr>\n",
              "    <tr>\n",
              "      <th>268</th>\n",
              "      <td>2022-04-29</td>\n",
              "      <td>Employee_26</td>\n",
              "      <td>TEAM_5</td>\n",
              "      <td>3.41</td>\n",
              "      <td>0.0</td>\n",
              "      <td>441</td>\n",
              "      <td>64</td>\n",
              "      <td>0.003194</td>\n",
              "      <td>1.5</td>\n",
              "      <td>14</td>\n",
              "      <td>11</td>\n",
              "      <td>0.25</td>\n",
              "      <td>1.0</td>\n",
              "      <td>0.25</td>\n",
              "      <td>UK</td>\n",
              "    </tr>\n",
              "  </tbody>\n",
              "</table>\n",
              "</div>"
            ],
            "text/plain": [
              "          Date         Name    Team  Presence  Pause (min)  \\\n",
              "264 2022-04-14  Employee_24  TEAM_4    123.00          0.0   \n",
              "265 2022-04-24  Employee_24  TEAM_4    184.00          0.0   \n",
              "266 2022-04-29  Employee_24  TEAM_4    441.00          0.0   \n",
              "267 2022-04-24  Employee_25  TEAM_5      1.60          0.0   \n",
              "268 2022-04-29  Employee_26  TEAM_5      3.41          0.0   \n",
              "\n",
              "     Presence net (min)  Processed (min)       DMT  Productivity hours  \\\n",
              "264                 123                0       NaN                 0.0   \n",
              "265                 184               36  0.008461                 1.3   \n",
              "266                 441               64  0.003194                 1.5   \n",
              "267                 184               36  0.008461                 1.3   \n",
              "268                 441               64  0.003194                 1.5   \n",
              "\n",
              "     Processed tickets  Closed tickets  FTE (process)  FTE (presence)  \\\n",
              "264                  0               0           0.00             0.5   \n",
              "265                  3               3           0.00             0.5   \n",
              "266                 14              11           0.25             1.0   \n",
              "267                  3               3           0.00             0.5   \n",
              "268                 14              11           0.25             1.0   \n",
              "\n",
              "     FTE weighted Country  \n",
              "264          0.00      UK  \n",
              "265          0.00      UK  \n",
              "266          0.25      UK  \n",
              "267          0.00      UK  \n",
              "268          0.25      UK  "
            ]
          },
          "execution_count": 44,
          "metadata": {},
          "output_type": "execute_result"
        }
      ],
      "source": [
        "# last rows\n",
        "df_concat.tail()"
      ]
    },
    {
      "cell_type": "code",
      "execution_count": null,
      "metadata": {
        "id": "_lWwQnt7_dfd",
        "outputId": "d4ee9db9-da92-4810-c650-0826002e2f0b"
      },
      "outputs": [
        {
          "name": "stderr",
          "output_type": "stream",
          "text": [
            "/home/e57658/.local/lib/python3.9/site-packages/xlsxwriter/workbook.py:339: UserWarning: Calling close() on already closed file.\n",
            "  warn(\"Calling close() on already closed file.\")\n"
          ]
        }
      ],
      "source": [
        "# create excel writer in the Processed_Files with the name 'Consolidation'\n",
        "writer = pd.ExcelWriter('Processed_Files/Consolidation.xlsx')\n",
        "\n",
        "# write dataframe to excel sheet named 'marks'\n",
        "df_concat.to_excel(writer, 'Consolidation')\n",
        "\n",
        "# save the excel file\n",
        "writer.save()\n",
        "writer.close()"
      ]
    },
    {
      "cell_type": "markdown",
      "metadata": {
        "id": "ktm1SmGr_dfe"
      },
      "source": [
        "# Reinitiate original folder"
      ]
    },
    {
      "cell_type": "code",
      "execution_count": null,
      "metadata": {
        "id": "lcou2vbv_dfe",
        "outputId": "a2519293-32bb-4d7c-b26b-43f8a19bf58b"
      },
      "outputs": [
        {
          "data": {
            "text/plain": [
              "'/home/e57658/workspace/Excel_Automation_Python/Raw_Excel_Files'"
            ]
          },
          "execution_count": 46,
          "metadata": {},
          "output_type": "execute_result"
        }
      ],
      "source": [
        "cwd"
      ]
    },
    {
      "cell_type": "code",
      "execution_count": null,
      "metadata": {
        "id": "TakbtTKp_dfe"
      },
      "outputs": [],
      "source": [
        "# delete Raw_Excel_Files to reinitiate the whole folder\n",
        "\n",
        "shutil.rmtree('/home/e57658/workspace/Excel_Automation_Python/Raw_Excel_Files') "
      ]
    },
    {
      "cell_type": "code",
      "execution_count": null,
      "metadata": {
        "id": "9frgfoQc_dff"
      },
      "outputs": [],
      "source": []
    }
  ],
  "metadata": {
    "colab": {
      "provenance": [],
      "toc_visible": true,
      "include_colab_link": true
    },
    "kernelspec": {
      "display_name": "Python 3 (ipykernel)",
      "language": "python",
      "name": "python3"
    },
    "language_info": {
      "codemirror_mode": {
        "name": "ipython",
        "version": 3
      },
      "file_extension": ".py",
      "mimetype": "text/x-python",
      "name": "python",
      "nbconvert_exporter": "python",
      "pygments_lexer": "ipython3",
      "version": "3.9.7"
    },
    "toc-autonumbering": true
  },
  "nbformat": 4,
  "nbformat_minor": 0
}
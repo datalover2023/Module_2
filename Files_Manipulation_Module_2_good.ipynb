{
  "cells": [
    {
      "cell_type": "markdown",
      "metadata": {
        "id": "view-in-github",
        "colab_type": "text"
      },
      "source": [
        "<a href=\"https://colab.research.google.com/github/datalover2023/Module_2/blob/main/Files_Manipulation_Module_2_good.ipynb\" target=\"_parent\"><img src=\"https://colab.research.google.com/assets/colab-badge.svg\" alt=\"Open In Colab\"/></a>"
      ]
    },
    {
      "cell_type": "markdown",
      "source": [
        "# 1.&nbsp;Set Up"
      ],
      "metadata": {
        "id": "bDYb4uuwZ2xh"
      }
    },
    {
      "cell_type": "code",
      "execution_count": 45,
      "metadata": {
        "id": "_NXz7PBlN_KU"
      },
      "outputs": [],
      "source": [
        "# Import Libraries\n",
        "import os\n",
        "import glob\n",
        "import shutil\n",
        "import sys\n",
        "from pathlib import Path\n",
        "import pandas as pd"
      ]
    },
    {
      "cell_type": "code",
      "source": [
        "# Accessing Google Drive from Google Colab\n",
        "\n",
        "from google.colab import drive \n",
        "drive.mount('/content/gdrive')"
      ],
      "metadata": {
        "colab": {
          "base_uri": "https://localhost:8080/"
        },
        "id": "8GkeyXnRAA_-",
        "outputId": "a7f08363-83b4-4af7-dc72-f6aa088e8458"
      },
      "execution_count": 46,
      "outputs": [
        {
          "output_type": "stream",
          "name": "stdout",
          "text": [
            "Drive already mounted at /content/gdrive; to attempt to forcibly remount, call drive.mount(\"/content/gdrive\", force_remount=True).\n"
          ]
        }
      ]
    },
    {
      "cell_type": "markdown",
      "metadata": {
        "id": "u1Ow-Eg4YHZA"
      },
      "source": [
        "# 2.&nbsp;Paths : CWD, Absolute vs Relative paths"
      ]
    },
    {
      "cell_type": "markdown",
      "source": [
        "## CWD: current working directory"
      ],
      "metadata": {
        "id": "lqaHbSJVl6_p"
      }
    },
    {
      "cell_type": "code",
      "execution_count": 47,
      "metadata": {
        "colab": {
          "base_uri": "https://localhost:8080/",
          "height": 52
        },
        "outputId": "e10c2c1d-ecfc-44d0-eadf-abe9e0257fd8",
        "id": "bbKBUTlTYHZB"
      },
      "outputs": [
        {
          "output_type": "stream",
          "name": "stdout",
          "text": [
            "The current working directory is : \n"
          ]
        },
        {
          "output_type": "execute_result",
          "data": {
            "text/plain": [
              "'/content'"
            ],
            "application/vnd.google.colaboratory.intrinsic+json": {
              "type": "string"
            }
          },
          "metadata": {},
          "execution_count": 47
        }
      ],
      "source": [
        "# get absolute path to current working directory\n",
        "\n",
        "# os.chdir('/content')\n",
        "print('The current working directory is : ')\n",
        "os.getcwd() "
      ]
    },
    {
      "cell_type": "code",
      "source": [
        "# save current working directory as cwd\n",
        "cwd = os.getcwd()\n",
        "cwd"
      ],
      "metadata": {
        "colab": {
          "base_uri": "https://localhost:8080/",
          "height": 35
        },
        "id": "HOSQo6ofYZIi",
        "outputId": "3c7e88c1-2661-4dcb-edea-bcbf02f5b080"
      },
      "execution_count": 48,
      "outputs": [
        {
          "output_type": "execute_result",
          "data": {
            "text/plain": [
              "'/content'"
            ],
            "application/vnd.google.colaboratory.intrinsic+json": {
              "type": "string"
            }
          },
          "metadata": {},
          "execution_count": 48
        }
      ]
    },
    {
      "cell_type": "code",
      "source": [
        "# List all files and directories in current directory\n",
        "\n",
        "os.listdir('.') #  ==> we have 3 directories : config, gdrive, sample_data"
      ],
      "metadata": {
        "colab": {
          "base_uri": "https://localhost:8080/"
        },
        "id": "YAud5pWJjR7D",
        "outputId": "b98dc2c1-356f-4fa7-b6e2-e16f6c33d175"
      },
      "execution_count": 49,
      "outputs": [
        {
          "output_type": "execute_result",
          "data": {
            "text/plain": [
              "['.config',\n",
              " 'UK_old.xlsx',\n",
              " 'UK.xlsx',\n",
              " 'DE.xlsx',\n",
              " 'FR.xlsx',\n",
              " 'gdrive',\n",
              " 'sample_data']"
            ]
          },
          "metadata": {},
          "execution_count": 49
        }
      ]
    },
    {
      "cell_type": "code",
      "source": [
        "# check conaining in sample_data directory\n",
        "\n",
        "print(os.listdir('sample_data'))"
      ],
      "metadata": {
        "colab": {
          "base_uri": "https://localhost:8080/"
        },
        "id": "aRUp1uLfjgcx",
        "outputId": "d54c0c32-4760-4bea-ae99-e4e4f58e56b4"
      },
      "execution_count": 50,
      "outputs": [
        {
          "output_type": "stream",
          "name": "stdout",
          "text": [
            "['README.md', 'anscombe.json', 'california_housing_train.csv', 'mnist_train_small.csv', 'mnist_test.csv', 'california_housing_test.csv']\n"
          ]
        }
      ]
    },
    {
      "cell_type": "markdown",
      "source": [
        "## Paths: Absolute & Relative"
      ],
      "metadata": {
        "id": "1NeODryrmHWC"
      }
    },
    {
      "cell_type": "markdown",
      "source": [
        "**Absolute file paths** are notated by a leading forward slash or drive label. For example, /home/example_user/example_directory or C:/system32/cmd.exe. An absolute file path describes how to access a given file or directory, starting from the root of the file system. A file path is also called a pathname.\n"
      ],
      "metadata": {
        "id": "JSOoWIiOk4Jw"
      }
    },
    {
      "cell_type": "code",
      "source": [
        "# check conaining in gdrive directory with aboslute path\n",
        "\n",
        "print(os.listdir('/content/gdrive')) \n",
        "print(os.listdir('/content/gdrive/MyDrive'))\n",
        "print(os.listdir('/content/gdrive/MyDrive/Colab Notebooks'))"
      ],
      "metadata": {
        "colab": {
          "base_uri": "https://localhost:8080/"
        },
        "id": "W1nieMycjfI6",
        "outputId": "9d9eac11-5fa4-4b6e-a69c-48f37810fdb8"
      },
      "execution_count": 51,
      "outputs": [
        {
          "output_type": "stream",
          "name": "stdout",
          "text": [
            "['MyDrive', '.file-revisions-by-id', '.shortcut-targets-by-id', '.Trash-0']\n",
            "['Colab Notebooks']\n",
            "['Python_Basics_Module_1 (10).ipynb', 'Practice_Module_1.ipynb', 'Python_Basics_Module_1_Cohort_1.ipynb', 'Basics_Module_1_Cohort_1 (1).ipynb', 'Basics_Module_1_Cohort_1.ipynb', 'Python_Basics_Module_1 (9).ipynb', 'Python_Basics_Module_1 (8).ipynb', 'Python_Basics_Module_1 (7).ipynb', 'Python_Basics_Module_1 (6).ipynb', 'Python_Basics_Module_1 (5).ipynb', 'Python_Basics_Module_1 (4).ipynb', 'Python_Basics_Module_1 (3).ipynb', 'Python_Basics_Module_1 (2).ipynb', 'Python_Basics_Module_1 (1).ipynb', 'Python_Basics_Module_1_back_up.ipynb', 'Python_Basics_Module_1.ipynb', 'Files_Manipulation (1).ipynb', ' Files_Manipulation_Module_2_Practice.ipynb', 'Files_Manipulation.ipynb', 'Files_Manipulation_v2.ipynb', 'Manipulation_Module_2.ipynb', 'Fille_Manipulation_Module_2_Practice.ipynb', 'Copy of Python_Basics_Module_1.ipynb', 'Files_Manipulation_Module_2_good (1).ipynb', 'Files_Manipulation_Module_2.ipynb', 'Files_Manipulation_Module_2_good.ipynb']\n"
          ]
        }
      ]
    },
    {
      "cell_type": "markdown",
      "source": [
        "**Relative file paths** are notated by a lack of a leading forward slash. For example, example_directory. A relative file path is interpreted from the perspective your current working directory. If you use a relative file path from the wrong directory, then the path will refer to a different file than you intend, or it will refer to no file at all."
      ],
      "metadata": {
        "id": "ZkNB-oRjlG7U"
      }
    },
    {
      "cell_type": "code",
      "source": [
        "# check conaining in gdrive directory with relative path\n",
        "\n",
        "print(os.listdir('gdrive')) \n",
        "print(os.listdir('gdrive/MyDrive'))\n",
        "print(os.listdir('gdrive/MyDrive/Colab Notebooks'))"
      ],
      "metadata": {
        "colab": {
          "base_uri": "https://localhost:8080/"
        },
        "id": "ZfOiSUfmkiKT",
        "outputId": "5c3bb173-f7a0-4d19-ea4f-9f5d1f732ee8"
      },
      "execution_count": 52,
      "outputs": [
        {
          "output_type": "stream",
          "name": "stdout",
          "text": [
            "['MyDrive', '.file-revisions-by-id', '.shortcut-targets-by-id', '.Trash-0']\n",
            "['Colab Notebooks']\n",
            "['Python_Basics_Module_1 (10).ipynb', 'Practice_Module_1.ipynb', 'Python_Basics_Module_1_Cohort_1.ipynb', 'Basics_Module_1_Cohort_1 (1).ipynb', 'Basics_Module_1_Cohort_1.ipynb', 'Python_Basics_Module_1 (9).ipynb', 'Python_Basics_Module_1 (8).ipynb', 'Python_Basics_Module_1 (7).ipynb', 'Python_Basics_Module_1 (6).ipynb', 'Python_Basics_Module_1 (5).ipynb', 'Python_Basics_Module_1 (4).ipynb', 'Python_Basics_Module_1 (3).ipynb', 'Python_Basics_Module_1 (2).ipynb', 'Python_Basics_Module_1 (1).ipynb', 'Python_Basics_Module_1_back_up.ipynb', 'Python_Basics_Module_1.ipynb', 'Files_Manipulation (1).ipynb', ' Files_Manipulation_Module_2_Practice.ipynb', 'Files_Manipulation.ipynb', 'Files_Manipulation_v2.ipynb', 'Manipulation_Module_2.ipynb', 'Fille_Manipulation_Module_2_Practice.ipynb', 'Copy of Python_Basics_Module_1.ipynb', 'Files_Manipulation_Module_2_good (1).ipynb', 'Files_Manipulation_Module_2.ipynb', 'Files_Manipulation_Module_2_good.ipynb']\n"
          ]
        }
      ]
    },
    {
      "cell_type": "code",
      "source": [
        "# delete a notebook from Colab Notebook ==> Name_Notebook.ipynb after '/content/gdrive/MyDrive/Colab Notebooks/ + Name_Notebook.ipynb'\n",
        "\n",
        "# os.unlink('/content/gdrive/MyDrive/Colab Notebooks/Copy of Fille_Manipulation_Module_2_Practice.ipynb') # relative path as UK_old in the working directory\n"
      ],
      "metadata": {
        "id": "PmCZ28V6jz21"
      },
      "execution_count": 53,
      "outputs": []
    },
    {
      "cell_type": "markdown",
      "source": [
        "## Import files"
      ],
      "metadata": {
        "id": "YMsZrwvkmRWB"
      }
    },
    {
      "cell_type": "code",
      "source": [
        "# import files into google Colab\n",
        "from google.colab import files"
      ],
      "metadata": {
        "id": "vMtWKHrYDYdH"
      },
      "execution_count": 54,
      "outputs": []
    },
    {
      "cell_type": "code",
      "source": [
        "# upload from your local : excel files \"DE.xlsx\", 'UK.xlsx\", 'FR.xlsx' and 'UK_old.xlsx'\n",
        "uploaded = files.upload()"
      ],
      "metadata": {
        "colab": {
          "base_uri": "https://localhost:8080/",
          "height": 177
        },
        "id": "_H0qa3TEP5n7",
        "outputId": "e9a5a7cb-2534-4e0b-a73a-ea2c28f8fec3"
      },
      "execution_count": 55,
      "outputs": [
        {
          "output_type": "display_data",
          "data": {
            "text/plain": [
              "<IPython.core.display.HTML object>"
            ],
            "text/html": [
              "\n",
              "     <input type=\"file\" id=\"files-6c4ae7ed-4760-4301-8858-f3ce193304f5\" name=\"files[]\" multiple disabled\n",
              "        style=\"border:none\" />\n",
              "     <output id=\"result-6c4ae7ed-4760-4301-8858-f3ce193304f5\">\n",
              "      Upload widget is only available when the cell has been executed in the\n",
              "      current browser session. Please rerun this cell to enable.\n",
              "      </output>\n",
              "      <script>// Copyright 2017 Google LLC\n",
              "//\n",
              "// Licensed under the Apache License, Version 2.0 (the \"License\");\n",
              "// you may not use this file except in compliance with the License.\n",
              "// You may obtain a copy of the License at\n",
              "//\n",
              "//      http://www.apache.org/licenses/LICENSE-2.0\n",
              "//\n",
              "// Unless required by applicable law or agreed to in writing, software\n",
              "// distributed under the License is distributed on an \"AS IS\" BASIS,\n",
              "// WITHOUT WARRANTIES OR CONDITIONS OF ANY KIND, either express or implied.\n",
              "// See the License for the specific language governing permissions and\n",
              "// limitations under the License.\n",
              "\n",
              "/**\n",
              " * @fileoverview Helpers for google.colab Python module.\n",
              " */\n",
              "(function(scope) {\n",
              "function span(text, styleAttributes = {}) {\n",
              "  const element = document.createElement('span');\n",
              "  element.textContent = text;\n",
              "  for (const key of Object.keys(styleAttributes)) {\n",
              "    element.style[key] = styleAttributes[key];\n",
              "  }\n",
              "  return element;\n",
              "}\n",
              "\n",
              "// Max number of bytes which will be uploaded at a time.\n",
              "const MAX_PAYLOAD_SIZE = 100 * 1024;\n",
              "\n",
              "function _uploadFiles(inputId, outputId) {\n",
              "  const steps = uploadFilesStep(inputId, outputId);\n",
              "  const outputElement = document.getElementById(outputId);\n",
              "  // Cache steps on the outputElement to make it available for the next call\n",
              "  // to uploadFilesContinue from Python.\n",
              "  outputElement.steps = steps;\n",
              "\n",
              "  return _uploadFilesContinue(outputId);\n",
              "}\n",
              "\n",
              "// This is roughly an async generator (not supported in the browser yet),\n",
              "// where there are multiple asynchronous steps and the Python side is going\n",
              "// to poll for completion of each step.\n",
              "// This uses a Promise to block the python side on completion of each step,\n",
              "// then passes the result of the previous step as the input to the next step.\n",
              "function _uploadFilesContinue(outputId) {\n",
              "  const outputElement = document.getElementById(outputId);\n",
              "  const steps = outputElement.steps;\n",
              "\n",
              "  const next = steps.next(outputElement.lastPromiseValue);\n",
              "  return Promise.resolve(next.value.promise).then((value) => {\n",
              "    // Cache the last promise value to make it available to the next\n",
              "    // step of the generator.\n",
              "    outputElement.lastPromiseValue = value;\n",
              "    return next.value.response;\n",
              "  });\n",
              "}\n",
              "\n",
              "/**\n",
              " * Generator function which is called between each async step of the upload\n",
              " * process.\n",
              " * @param {string} inputId Element ID of the input file picker element.\n",
              " * @param {string} outputId Element ID of the output display.\n",
              " * @return {!Iterable<!Object>} Iterable of next steps.\n",
              " */\n",
              "function* uploadFilesStep(inputId, outputId) {\n",
              "  const inputElement = document.getElementById(inputId);\n",
              "  inputElement.disabled = false;\n",
              "\n",
              "  const outputElement = document.getElementById(outputId);\n",
              "  outputElement.innerHTML = '';\n",
              "\n",
              "  const pickedPromise = new Promise((resolve) => {\n",
              "    inputElement.addEventListener('change', (e) => {\n",
              "      resolve(e.target.files);\n",
              "    });\n",
              "  });\n",
              "\n",
              "  const cancel = document.createElement('button');\n",
              "  inputElement.parentElement.appendChild(cancel);\n",
              "  cancel.textContent = 'Cancel upload';\n",
              "  const cancelPromise = new Promise((resolve) => {\n",
              "    cancel.onclick = () => {\n",
              "      resolve(null);\n",
              "    };\n",
              "  });\n",
              "\n",
              "  // Wait for the user to pick the files.\n",
              "  const files = yield {\n",
              "    promise: Promise.race([pickedPromise, cancelPromise]),\n",
              "    response: {\n",
              "      action: 'starting',\n",
              "    }\n",
              "  };\n",
              "\n",
              "  cancel.remove();\n",
              "\n",
              "  // Disable the input element since further picks are not allowed.\n",
              "  inputElement.disabled = true;\n",
              "\n",
              "  if (!files) {\n",
              "    return {\n",
              "      response: {\n",
              "        action: 'complete',\n",
              "      }\n",
              "    };\n",
              "  }\n",
              "\n",
              "  for (const file of files) {\n",
              "    const li = document.createElement('li');\n",
              "    li.append(span(file.name, {fontWeight: 'bold'}));\n",
              "    li.append(span(\n",
              "        `(${file.type || 'n/a'}) - ${file.size} bytes, ` +\n",
              "        `last modified: ${\n",
              "            file.lastModifiedDate ? file.lastModifiedDate.toLocaleDateString() :\n",
              "                                    'n/a'} - `));\n",
              "    const percent = span('0% done');\n",
              "    li.appendChild(percent);\n",
              "\n",
              "    outputElement.appendChild(li);\n",
              "\n",
              "    const fileDataPromise = new Promise((resolve) => {\n",
              "      const reader = new FileReader();\n",
              "      reader.onload = (e) => {\n",
              "        resolve(e.target.result);\n",
              "      };\n",
              "      reader.readAsArrayBuffer(file);\n",
              "    });\n",
              "    // Wait for the data to be ready.\n",
              "    let fileData = yield {\n",
              "      promise: fileDataPromise,\n",
              "      response: {\n",
              "        action: 'continue',\n",
              "      }\n",
              "    };\n",
              "\n",
              "    // Use a chunked sending to avoid message size limits. See b/62115660.\n",
              "    let position = 0;\n",
              "    do {\n",
              "      const length = Math.min(fileData.byteLength - position, MAX_PAYLOAD_SIZE);\n",
              "      const chunk = new Uint8Array(fileData, position, length);\n",
              "      position += length;\n",
              "\n",
              "      const base64 = btoa(String.fromCharCode.apply(null, chunk));\n",
              "      yield {\n",
              "        response: {\n",
              "          action: 'append',\n",
              "          file: file.name,\n",
              "          data: base64,\n",
              "        },\n",
              "      };\n",
              "\n",
              "      let percentDone = fileData.byteLength === 0 ?\n",
              "          100 :\n",
              "          Math.round((position / fileData.byteLength) * 100);\n",
              "      percent.textContent = `${percentDone}% done`;\n",
              "\n",
              "    } while (position < fileData.byteLength);\n",
              "  }\n",
              "\n",
              "  // All done.\n",
              "  yield {\n",
              "    response: {\n",
              "      action: 'complete',\n",
              "    }\n",
              "  };\n",
              "}\n",
              "\n",
              "scope.google = scope.google || {};\n",
              "scope.google.colab = scope.google.colab || {};\n",
              "scope.google.colab._files = {\n",
              "  _uploadFiles,\n",
              "  _uploadFilesContinue,\n",
              "};\n",
              "})(self);\n",
              "</script> "
            ]
          },
          "metadata": {}
        },
        {
          "output_type": "stream",
          "name": "stdout",
          "text": [
            "Saving DE.xlsx to DE (1).xlsx\n",
            "Saving FR.xlsx to FR (1).xlsx\n",
            "Saving UK.xlsx to UK (1).xlsx\n",
            "Saving UK_old.xlsx to UK_old (1).xlsx\n"
          ]
        }
      ]
    },
    {
      "cell_type": "code",
      "source": [
        "# List all files and directories in current directory\n",
        "os.listdir('.')"
      ],
      "metadata": {
        "colab": {
          "base_uri": "https://localhost:8080/"
        },
        "id": "G-CfZN5wYvew",
        "outputId": "846d6c21-1fa6-4af3-e0df-f07b27bd1b26"
      },
      "execution_count": 56,
      "outputs": [
        {
          "output_type": "execute_result",
          "data": {
            "text/plain": [
              "['.config',\n",
              " 'UK_old.xlsx',\n",
              " 'UK (1).xlsx',\n",
              " 'UK.xlsx',\n",
              " 'DE.xlsx',\n",
              " 'FR.xlsx',\n",
              " 'gdrive',\n",
              " 'DE (1).xlsx',\n",
              " 'UK_old (1).xlsx',\n",
              " 'FR (1).xlsx',\n",
              " 'sample_data']"
            ]
          },
          "metadata": {},
          "execution_count": 56
        }
      ]
    },
    {
      "cell_type": "markdown",
      "metadata": {
        "id": "bPlad8w9_dfJ"
      },
      "source": [
        "# 3.&nbsp;Folder hierarchy tree"
      ]
    },
    {
      "cell_type": "code",
      "execution_count": 57,
      "metadata": {
        "id": "74BL7BcF_dfK",
        "outputId": "725062b7-d612-4acf-da3b-17b479d91a4c",
        "colab": {
          "base_uri": "https://localhost:8080/"
        }
      },
      "outputs": [
        {
          "output_type": "stream",
          "name": "stdout",
          "text": [
            "| ---- > content :\n",
            "| ------------ UK_old.xlsx\n",
            "| ------------ UK (1).xlsx\n",
            "| ------------ UK.xlsx\n",
            "| ------------ DE.xlsx\n",
            "| ------------ FR.xlsx\n",
            "| ------------ DE (1).xlsx\n",
            "| ------------ UK_old (1).xlsx\n",
            "| ------------ FR (1).xlsx\n",
            "| ------ > .config :\n",
            "| ------------------ .last_update_check.json\n",
            "| ------------------ .last_survey_prompt.yaml\n",
            "| ------------------ active_config\n",
            "| ------------------ config_sentinel\n",
            "| ------------------ .last_opt_in_prompt.yaml\n",
            "| ------------------ gce\n",
            "| -------- > logs :\n",
            "| ---------- > 2023.01.27 :\n",
            "| ------------------------------ 14.36.38.212919.log\n",
            "| ------------------------------ 14.36.06.715600.log\n",
            "| ------------------------------ 14.35.18.630538.log\n",
            "| ------------------------------ 14.36.14.287380.log\n",
            "| ------------------------------ 14.36.38.920934.log\n",
            "| ------------------------------ 14.35.44.062869.log\n",
            "| -------- > configurations :\n",
            "| ------------------------ config_default\n",
            "| ------ > gdrive :\n",
            "| -------- > MyDrive :\n",
            "| ---------- > Colab Notebooks :\n",
            "| ------------------------------ Python_Basics_Module_1 (10).ipynb\n",
            "| ------------------------------ Practice_Module_1.ipynb\n",
            "| ------------------------------ Python_Basics_Module_1_Cohort_1.ipynb\n",
            "| ------------------------------ Basics_Module_1_Cohort_1 (1).ipynb\n",
            "| ------------------------------ Basics_Module_1_Cohort_1.ipynb\n",
            "| ------------------------------ Python_Basics_Module_1 (9).ipynb\n",
            "| ------------------------------ Python_Basics_Module_1 (8).ipynb\n",
            "| ------------------------------ Python_Basics_Module_1 (7).ipynb\n",
            "| ------------------------------ Python_Basics_Module_1 (6).ipynb\n",
            "| ------------------------------ Python_Basics_Module_1 (5).ipynb\n",
            "| ------------------------------ Python_Basics_Module_1 (4).ipynb\n",
            "| ------------------------------ Python_Basics_Module_1 (3).ipynb\n",
            "| ------------------------------ Python_Basics_Module_1 (2).ipynb\n",
            "| ------------------------------ Python_Basics_Module_1 (1).ipynb\n",
            "| ------------------------------ Python_Basics_Module_1_back_up.ipynb\n",
            "| ------------------------------ Python_Basics_Module_1.ipynb\n",
            "| ------------------------------ Files_Manipulation (1).ipynb\n",
            "| ------------------------------  Files_Manipulation_Module_2_Practice.ipynb\n",
            "| ------------------------------ Files_Manipulation.ipynb\n",
            "| ------------------------------ Files_Manipulation_v2.ipynb\n",
            "| ------------------------------ Manipulation_Module_2.ipynb\n",
            "| ------------------------------ Fille_Manipulation_Module_2_Practice.ipynb\n",
            "| ------------------------------ Copy of Python_Basics_Module_1.ipynb\n",
            "| ------------------------------ Files_Manipulation_Module_2_good (1).ipynb\n",
            "| ------------------------------ Files_Manipulation_Module_2.ipynb\n",
            "| ------------------------------ Files_Manipulation_Module_2_good.ipynb\n",
            "| -------- > .file-revisions-by-id :\n",
            "| -------- > .shortcut-targets-by-id :\n",
            "| -------- > .Trash-0 :\n",
            "| ---------- > files :\n",
            "| ---------- > info :\n",
            "| ------ > sample_data :\n",
            "| ------------------ README.md\n",
            "| ------------------ anscombe.json\n",
            "| ------------------ california_housing_train.csv\n",
            "| ------------------ mnist_train_small.csv\n",
            "| ------------------ mnist_test.csv\n",
            "| ------------------ california_housing_test.csv\n"
          ]
        }
      ],
      "source": [
        "# create a function << folder tree >> to display the the hierarchy of your cwd\n",
        "\n",
        "def folder_tree(folder):\n",
        "    for dirpath, dirs, files in os.walk(cwd):\t \n",
        "        if 'checkpoints' not in dirpath:\n",
        "                path = dirpath.split('/')     \n",
        "                print ('|', (len(path))*'--', '>',os.path.basename(dirpath),':')\n",
        "                for f in files:\n",
        "                    print ('|', len(path)*'------', f)\n",
        "                    \n",
        "\n",
        "# call function folder_tree on your cwd\n",
        "\n",
        "folder_tree(cwd)  "
      ]
    },
    {
      "cell_type": "code",
      "source": [
        "# another way to explore your folder/files \n",
        "# create function << folder_tree_2 >>\n",
        "\n",
        "\n",
        "def folder_tree_2(folder):\n",
        "    for dirPath, dirNames, fileNames in os.walk(cwd, topdown=True):\n",
        "        if 'checkpoints' not in dirPath:\n",
        "            print(\"Directory Path: \", dirPath) \n",
        "            print(len(dirNames), \"Directories = \", dirNames )\n",
        "            print(len(fileNames), \"Files = \", fileNames )\n",
        "            print('-'*10)\n",
        "\n",
        "            \n",
        "\n",
        "# call function << folder_tree_2 >> on your cwd\n",
        "# it will return all Directory Paths with contained sub_directories and files\n",
        "# nb of sub_directories and files\n",
        "\n",
        "folder_tree_2(cwd)"
      ],
      "metadata": {
        "colab": {
          "base_uri": "https://localhost:8080/"
        },
        "id": "knqRLZQ-Zavw",
        "outputId": "6ef88467-fee2-4d4d-d0f6-230f5684e2b6"
      },
      "execution_count": 58,
      "outputs": [
        {
          "output_type": "stream",
          "name": "stdout",
          "text": [
            "Directory Path:  /content\n",
            "3 Directories =  ['.config', 'gdrive', 'sample_data']\n",
            "8 Files =  ['UK_old.xlsx', 'UK (1).xlsx', 'UK.xlsx', 'DE.xlsx', 'FR.xlsx', 'DE (1).xlsx', 'UK_old (1).xlsx', 'FR (1).xlsx']\n",
            "----------\n",
            "Directory Path:  /content/.config\n",
            "2 Directories =  ['logs', 'configurations']\n",
            "6 Files =  ['.last_update_check.json', '.last_survey_prompt.yaml', 'active_config', 'config_sentinel', '.last_opt_in_prompt.yaml', 'gce']\n",
            "----------\n",
            "Directory Path:  /content/.config/logs\n",
            "1 Directories =  ['2023.01.27']\n",
            "0 Files =  []\n",
            "----------\n",
            "Directory Path:  /content/.config/logs/2023.01.27\n",
            "0 Directories =  []\n",
            "6 Files =  ['14.36.38.212919.log', '14.36.06.715600.log', '14.35.18.630538.log', '14.36.14.287380.log', '14.36.38.920934.log', '14.35.44.062869.log']\n",
            "----------\n",
            "Directory Path:  /content/.config/configurations\n",
            "0 Directories =  []\n",
            "1 Files =  ['config_default']\n",
            "----------\n",
            "Directory Path:  /content/gdrive\n",
            "4 Directories =  ['MyDrive', '.file-revisions-by-id', '.shortcut-targets-by-id', '.Trash-0']\n",
            "0 Files =  []\n",
            "----------\n",
            "Directory Path:  /content/gdrive/MyDrive\n",
            "1 Directories =  ['Colab Notebooks']\n",
            "0 Files =  []\n",
            "----------\n",
            "Directory Path:  /content/gdrive/MyDrive/Colab Notebooks\n",
            "0 Directories =  []\n",
            "26 Files =  ['Python_Basics_Module_1 (10).ipynb', 'Practice_Module_1.ipynb', 'Python_Basics_Module_1_Cohort_1.ipynb', 'Basics_Module_1_Cohort_1 (1).ipynb', 'Basics_Module_1_Cohort_1.ipynb', 'Python_Basics_Module_1 (9).ipynb', 'Python_Basics_Module_1 (8).ipynb', 'Python_Basics_Module_1 (7).ipynb', 'Python_Basics_Module_1 (6).ipynb', 'Python_Basics_Module_1 (5).ipynb', 'Python_Basics_Module_1 (4).ipynb', 'Python_Basics_Module_1 (3).ipynb', 'Python_Basics_Module_1 (2).ipynb', 'Python_Basics_Module_1 (1).ipynb', 'Python_Basics_Module_1_back_up.ipynb', 'Python_Basics_Module_1.ipynb', 'Files_Manipulation (1).ipynb', ' Files_Manipulation_Module_2_Practice.ipynb', 'Files_Manipulation.ipynb', 'Files_Manipulation_v2.ipynb', 'Manipulation_Module_2.ipynb', 'Fille_Manipulation_Module_2_Practice.ipynb', 'Copy of Python_Basics_Module_1.ipynb', 'Files_Manipulation_Module_2_good (1).ipynb', 'Files_Manipulation_Module_2.ipynb', 'Files_Manipulation_Module_2_good.ipynb']\n",
            "----------\n",
            "Directory Path:  /content/gdrive/.file-revisions-by-id\n",
            "0 Directories =  []\n",
            "0 Files =  []\n",
            "----------\n",
            "Directory Path:  /content/gdrive/.shortcut-targets-by-id\n",
            "0 Directories =  []\n",
            "0 Files =  []\n",
            "----------\n",
            "Directory Path:  /content/gdrive/.Trash-0\n",
            "2 Directories =  ['files', 'info']\n",
            "0 Files =  []\n",
            "----------\n",
            "Directory Path:  /content/gdrive/.Trash-0/files\n",
            "0 Directories =  []\n",
            "0 Files =  []\n",
            "----------\n",
            "Directory Path:  /content/gdrive/.Trash-0/info\n",
            "0 Directories =  []\n",
            "0 Files =  []\n",
            "----------\n",
            "Directory Path:  /content/sample_data\n",
            "0 Directories =  []\n",
            "6 Files =  ['README.md', 'anscombe.json', 'california_housing_train.csv', 'mnist_train_small.csv', 'mnist_test.csv', 'california_housing_test.csv']\n",
            "----------\n"
          ]
        }
      ]
    },
    {
      "cell_type": "markdown",
      "source": [
        "# 4.&nbsp;Looking for Files with extensions"
      ],
      "metadata": {
        "id": "FCmGQXHAsiwd"
      }
    },
    {
      "cell_type": "code",
      "execution_count": 59,
      "metadata": {
        "colab": {
          "base_uri": "https://localhost:8080/"
        },
        "id": "pOhA88_hwXk7",
        "outputId": "a8c45ab4-4643-4b65-b102-d2c392687f25"
      },
      "outputs": [
        {
          "output_type": "stream",
          "name": "stdout",
          "text": [
            "there are 8 excel files: \n"
          ]
        },
        {
          "output_type": "execute_result",
          "data": {
            "text/plain": [
              "['UK_old.xlsx',\n",
              " 'UK (1).xlsx',\n",
              " 'UK.xlsx',\n",
              " 'DE.xlsx',\n",
              " 'FR.xlsx',\n",
              " 'DE (1).xlsx',\n",
              " 'UK_old (1).xlsx',\n",
              " 'FR (1).xlsx']"
            ]
          },
          "metadata": {},
          "execution_count": 59
        }
      ],
      "source": [
        "# create a list  \"excel_files\" with all files that have the extension excel_files in the working directory\n",
        "\n",
        "excel_files=[]\n",
        "for file in os.listdir(cwd):\n",
        "    if file.endswith('.xlsx'): # or '.csv' if your'looinkg for csv files\n",
        "            excel_files.append(file)\n",
        "            \n",
        "# it will print out excel names present in current directory folder = 'Basics_Python\"\n",
        "print( 'there are', len(excel_files), \"excel files: \")\n",
        "excel_files"
      ]
    },
    {
      "cell_type": "code",
      "execution_count": 60,
      "metadata": {
        "colab": {
          "base_uri": "https://localhost:8080/"
        },
        "id": "T9-EafJPwlNw",
        "outputId": "514c0bfd-e634-4eed-ecec-39bb30f1234d"
      },
      "outputs": [
        {
          "output_type": "stream",
          "name": "stdout",
          "text": [
            "['/content/UK_old.xlsx', '/content/UK (1).xlsx', '/content/UK.xlsx', '/content/DE.xlsx', '/content/FR.xlsx', '/content/DE (1).xlsx', '/content/UK_old (1).xlsx', '/content/FR (1).xlsx']\n",
            "\n",
            "File names with their paths:\n",
            "/content/UK_old.xlsx\n",
            "/content/UK (1).xlsx\n",
            "/content/UK.xlsx\n",
            "/content/DE.xlsx\n",
            "/content/FR.xlsx\n",
            "/content/DE (1).xlsx\n",
            "/content/UK_old (1).xlsx\n",
            "/content/FR (1).xlsx\n"
          ]
        }
      ],
      "source": [
        "# check the absolute path of all excel files\n",
        "\n",
        "# we'll use \"glob\" package that works with file paths\n",
        "# glob package is usefull to return all file paths that match a specific pattern\n",
        "\n",
        "# create a list where are stored the paths of every excel file\n",
        "\n",
        "# in the working directory here stored in the variable cwd... \n",
        "# find all files that have the extension .xlsx ...\n",
        "# and then concatenate the working directory path + excel file name ...\n",
        "# we will obtain the absolute path to each excel file ...\n",
        "# and then store them all into a list called \"filespaths\"\n",
        "\n",
        "\n",
        "filespaths = glob.glob(cwd + \"/*.xlsx\")  # create a list that from cwd, will pick up every the ABSOLUTE PATH for files with extention .xlsx\n",
        "print(filespaths)\n",
        "print(\"\")\n",
        "\n",
        "# print out excel paths one by one\n",
        "print('File names with their paths:')\n",
        "for path in filespaths:\n",
        "    print(path)"
      ]
    },
    {
      "cell_type": "markdown",
      "metadata": {
        "id": "cVcMXwSp_dfS"
      },
      "source": [
        "# 4.&nbsp;Change working directory"
      ]
    },
    {
      "cell_type": "code",
      "source": [
        "# if you want to change the current working directory (cwd) \n",
        "\n",
        "# change cwd to folder MyDrive (that is in directory content/gdrive)\n",
        "os.chdir('/content/gdrive/MyDrive')\n",
        "# check the new current working directory now\n",
        "cwd = os.getcwd()\n",
        "cwd"
      ],
      "metadata": {
        "colab": {
          "base_uri": "https://localhost:8080/",
          "height": 35
        },
        "id": "XQ-pL1_8XKud",
        "outputId": "1aafa875-a0c4-42b1-bdee-1a93941f5ba6"
      },
      "execution_count": 62,
      "outputs": [
        {
          "output_type": "execute_result",
          "data": {
            "text/plain": [
              "'/content/gdrive/MyDrive'"
            ],
            "application/vnd.google.colaboratory.intrinsic+json": {
              "type": "string"
            }
          },
          "metadata": {},
          "execution_count": 62
        }
      ]
    },
    {
      "cell_type": "code",
      "source": [
        "# List all files and directories in the new current directory << MyDrive >>\n",
        "os.listdir('.')"
      ],
      "metadata": {
        "colab": {
          "base_uri": "https://localhost:8080/"
        },
        "id": "WJW-tAbOXabC",
        "outputId": "9eaa4ff3-a652-49d7-8dfd-32277348caac"
      },
      "execution_count": 63,
      "outputs": [
        {
          "output_type": "execute_result",
          "data": {
            "text/plain": [
              "['Colab Notebooks']"
            ]
          },
          "metadata": {},
          "execution_count": 63
        }
      ]
    },
    {
      "cell_type": "markdown",
      "metadata": {
        "id": "klW5vu46w_Kj"
      },
      "source": [
        "# 5.&nbsp;Manipulate Directories"
      ]
    },
    {
      "cell_type": "markdown",
      "source": [
        "## Create a new folder"
      ],
      "metadata": {
        "id": "PVVj46wU1IDj"
      }
    },
    {
      "cell_type": "code",
      "execution_count": 64,
      "metadata": {
        "colab": {
          "base_uri": "https://localhost:8080/"
        },
        "id": "bFIMYI_UxCJ2",
        "outputId": "2c6b6f66-f877-4fdb-fa64-b102a18c687f"
      },
      "outputs": [
        {
          "output_type": "stream",
          "name": "stdout",
          "text": [
            "/content/gdrive/MyDrive/Raw_Files\n"
          ]
        }
      ],
      "source": [
        "# create a new folder called \"Raw_Files\"\n",
        "\n",
        "# First: \n",
        "# write the path to the \"Raw_Files\" sub_directory\n",
        "folder = cwd + '/' + 'Raw_Files' # == > /content/gdrive/MyDrive/Raw_Files\n",
        "print(folder)\n",
        "\n",
        "# Second:\n",
        "# create the folder at the indicated path\n",
        "os.makedirs(folder) # create an empty folder called << Raw_Files >>"
      ]
    },
    {
      "cell_type": "code",
      "source": [
        "# now check the sub_directories in cwd with os.listdir()\n",
        "\n",
        "os.listdir('.')"
      ],
      "metadata": {
        "colab": {
          "base_uri": "https://localhost:8080/"
        },
        "id": "WYSDSulCyvEm",
        "outputId": "95a27707-19ef-4cb3-89f4-e4c87654b592"
      },
      "execution_count": 65,
      "outputs": [
        {
          "output_type": "execute_result",
          "data": {
            "text/plain": [
              "['Colab Notebooks', 'Raw_Files']"
            ]
          },
          "metadata": {},
          "execution_count": 65
        }
      ]
    },
    {
      "cell_type": "markdown",
      "source": [
        "## Rename Folders"
      ],
      "metadata": {
        "id": "C1Umqr6K1P12"
      }
    },
    {
      "cell_type": "code",
      "execution_count": 66,
      "metadata": {
        "id": "MoC3H5lP_dfI"
      },
      "outputs": [],
      "source": [
        "# rename folder <<Raw_Files>> in  <<Raw_Excel_Files folder>>\n",
        "\n",
        "new_name= 'Raw_Excel_Files' # variable containing the new name value\n",
        "\n",
        "os.rename(folder, new_name) # it will rename \"Raw_Files\" into 'Raw_Excel_Files'\n",
        "\n",
        "# now check the sub_directories in cwd with os.listdir()\n",
        "\n",
        "os.listdir('.')"
      ]
    },
    {
      "cell_type": "markdown",
      "source": [
        "## Nested Folders"
      ],
      "metadata": {
        "id": "DAPHBheo1VPS"
      }
    },
    {
      "cell_type": "code",
      "execution_count": 68,
      "metadata": {
        "colab": {
          "base_uri": "https://localhost:8080/",
          "height": 35
        },
        "id": "_Oq-PpDbxE-t",
        "outputId": "d9880655-ef4d-4d22-8c6a-614105f90561"
      },
      "outputs": [
        {
          "output_type": "execute_result",
          "data": {
            "text/plain": [
              "'/content/gdrive/MyDrive/New_Folder/Inner_folder'"
            ],
            "application/vnd.google.colaboratory.intrinsic+json": {
              "type": "string"
            }
          },
          "metadata": {},
          "execution_count": 68
        }
      ],
      "source": [
        "# Create a nested folder (folder in the folder)\n",
        "\n",
        "other = cwd + '/' + 'New_Folder' + '/' +'Inner_folder' \n",
        "os.makedirs(other)\n",
        "other # the folder \"New_Folder\" will contain another empty folder \"Inner Folder\""
      ]
    },
    {
      "cell_type": "code",
      "source": [
        "# now check the sub_directories in cwd with os.listdir()\n",
        "\n",
        "os.listdir('.')"
      ],
      "metadata": {
        "colab": {
          "base_uri": "https://localhost:8080/"
        },
        "id": "08SG9wSL1eIW",
        "outputId": "71fb97ee-da7d-4b7d-84a3-36f506764280"
      },
      "execution_count": 69,
      "outputs": [
        {
          "output_type": "execute_result",
          "data": {
            "text/plain": [
              "['Colab Notebooks', 'Raw_Excel_Files', 'New_Folder']"
            ]
          },
          "metadata": {},
          "execution_count": 69
        }
      ]
    },
    {
      "cell_type": "markdown",
      "metadata": {
        "id": "pt37qb5y_dfL"
      },
      "source": [
        "## Navigate in tree hierarchy"
      ]
    },
    {
      "cell_type": "code",
      "execution_count": 70,
      "metadata": {
        "id": "tPrUfZ8d_dfM",
        "outputId": "45d9162a-3ab0-4482-afd5-653af29c949d",
        "colab": {
          "base_uri": "https://localhost:8080/"
        }
      },
      "outputs": [
        {
          "output_type": "execute_result",
          "data": {
            "text/plain": [
              "['Colab Notebooks', 'Raw_Excel_Files', 'New_Folder']"
            ]
          },
          "metadata": {},
          "execution_count": 70
        }
      ],
      "source": [
        "# list all files in the current directoy\n",
        "\n",
        "os.listdir('.')"
      ]
    },
    {
      "cell_type": "code",
      "execution_count": 71,
      "metadata": {
        "id": "sd5ghfUK_dfM",
        "outputId": "acfcdb62-d4c0-4284-f6c9-f3b17e2bf1ac",
        "colab": {
          "base_uri": "https://localhost:8080/"
        }
      },
      "outputs": [
        {
          "output_type": "execute_result",
          "data": {
            "text/plain": [
              "['MyDrive', '.file-revisions-by-id', '.shortcut-targets-by-id', '.Trash-0']"
            ]
          },
          "metadata": {},
          "execution_count": 71
        }
      ],
      "source": [
        "# move up in the hierarchy to list the files from the upper level \n",
        "\n",
        "os.listdir('..')"
      ]
    },
    {
      "cell_type": "code",
      "execution_count": 73,
      "metadata": {
        "id": "kw2WlP2e_dfN",
        "outputId": "f4f8df84-7bb4-457e-eceb-38b96ca160c0",
        "colab": {
          "base_uri": "https://localhost:8080/"
        }
      },
      "outputs": [
        {
          "output_type": "stream",
          "name": "stdout",
          "text": [
            "['Inner_folder']\n"
          ]
        }
      ],
      "source": [
        "# list files inside a specific folder (get children)\n",
        "\n",
        "print (os.listdir('New_Folder'))\n"
      ]
    },
    {
      "cell_type": "code",
      "execution_count": 82,
      "metadata": {
        "id": "pImwa3TA_dfN",
        "outputId": "ea6f5b51-2f17-4fa6-c69c-4489e99de028",
        "colab": {
          "base_uri": "https://localhost:8080/"
        }
      },
      "outputs": [
        {
          "output_type": "execute_result",
          "data": {
            "text/plain": [
              "PosixPath('/content/gdrive/MyDrive')"
            ]
          },
          "metadata": {},
          "execution_count": 82
        }
      ],
      "source": [
        "# get parent of a scpecific folder (go back with 1 level)\n",
        "\n",
        "# save path to New_FOlder\n",
        "new_folder = '/content/gdrive/MyDrive/New_Folder' \n",
        "\n",
        "# prit parent of Inner_Folder\n",
        "Path(new_folder).parents[0]\n"
      ]
    },
    {
      "cell_type": "code",
      "execution_count": 83,
      "metadata": {
        "id": "yHEx2ok__dfO",
        "outputId": "83d3037b-0df3-4d6a-fa77-bb09db91a02a",
        "colab": {
          "base_uri": "https://localhost:8080/"
        }
      },
      "outputs": [
        {
          "output_type": "stream",
          "name": "stdout",
          "text": [
            "/content/gdrive\n"
          ]
        }
      ],
      "source": [
        "# get grand parent of a scpecific folder (go back with 2 levels)\n",
        "\n",
        "print(Path(new_folder).parents[1])\n"
      ]
    },
    {
      "cell_type": "markdown",
      "metadata": {
        "id": "Jgviz2daz65q"
      },
      "source": [
        "# 6.&nbsp;Copy File\n"
      ]
    },
    {
      "cell_type": "code",
      "execution_count": null,
      "metadata": {
        "id": "jIlgijfL_dfO"
      },
      "outputs": [],
      "source": [
        "# destination folder we want to copy is Raw_Files\n",
        "dest = 'Raw_Excel_Files'"
      ]
    },
    {
      "cell_type": "code",
      "execution_count": null,
      "metadata": {
        "id": "bWw3YvhHxguf"
      },
      "outputs": [],
      "source": [
        "# work with shutil package\n",
        "''' Shutil module offers high-level operation on a file like a copy, create, move\n",
        "and remote operation on the file '''\n",
        "\n",
        "# path to the file that we want to copy : UK.xlsx we store it in a variable called \"src\"\n",
        "# as the file UK.xlsx is in working directory we can use the relative path of the file\n",
        "# otherwise we would need to use absolute path ....\n",
        "# ..'/home/e57658/workspace/Excel_Automation_Python/Basics_Python/DE.xlsx'\n",
        "\n",
        "src='UK.xlsx' \n",
        "\n",
        "# copy the file in the folder we want\n",
        "shutil.copy(src, # what file we want to copy, more specifically its path\n",
        "            dest) # path to the folder we want to paste the copied file"
      ]
    },
    {
      "cell_type": "code",
      "execution_count": null,
      "metadata": {
        "id": "wQKytxOX1SSm"
      },
      "outputs": [],
      "source": [
        "# file that we want to copy : FR.xlsx\n",
        "src='FR.xlsx'\n",
        "\n",
        "# copy the file in the folder we want\n",
        "shutil.copy(src, dest)"
      ]
    },
    {
      "cell_type": "code",
      "execution_count": null,
      "metadata": {
        "id": "ry059DRi_dfR"
      },
      "outputs": [],
      "source": [
        "# file that we want to copy : DE.xlsx\n",
        "src='DE.xlsx'\n",
        "\n",
        "# copy the file in the folder we want\n",
        "shutil.copy(src, dest)"
      ]
    },
    {
      "cell_type": "code",
      "execution_count": null,
      "metadata": {
        "id": "bdsQE7Fh_dfR"
      },
      "outputs": [],
      "source": [
        "# copy the multiple files in the folder we want\n",
        "\n",
        "# we want to copy all excel files in Raw_Excel_Files\n",
        "print(excel_files)\n",
        "\n",
        "for file in excel_files:\n",
        "    shutil.copy(file, dest)"
      ]
    },
    {
      "cell_type": "markdown",
      "metadata": {
        "id": "ot-XcKgS0vli"
      },
      "source": [
        "# 7.&nbsp;Move File"
      ]
    },
    {
      "cell_type": "code",
      "execution_count": null,
      "metadata": {
        "id": "MC1Fq8YA_dfT"
      },
      "outputs": [],
      "source": [
        "# First: write the path to the \"Python\" folder\n",
        "folder_1 = cwd + '/' + 'Old_Files'\n",
        "print(folder_1)\n",
        "\n",
        "# Second: create the folder at the indicated path\n",
        "os.makedirs(folder_1)"
      ]
    },
    {
      "cell_type": "code",
      "execution_count": null,
      "metadata": {
        "id": "aRJI5bND0ySA"
      },
      "outputs": [],
      "source": [
        "# folder_to_move (it would be like cut/paste\n",
        "\n",
        "file_to_move = 'UK_old.xlsx'\n",
        "\n",
        "shutil.move(file_to_move, # file/folder to cut\n",
        "           folder_1) # folder where to move = '/home/e57658/workspace/Excel_Automation_Python/Basics_Python/Raw_Files'"
      ]
    },
    {
      "cell_type": "markdown",
      "metadata": {
        "id": "mXx48d0W2427"
      },
      "source": [
        "# 5.&nbsp;Delete Files"
      ]
    },
    {
      "cell_type": "code",
      "execution_count": null,
      "metadata": {
        "id": "RYdN0l___dfU"
      },
      "outputs": [],
      "source": [
        "cwd"
      ]
    },
    {
      "cell_type": "code",
      "execution_count": null,
      "metadata": {
        "id": "rOYRvWSr2a0q"
      },
      "outputs": [],
      "source": [
        "# delete a file DE.xlsx from Raw_Files folder\n",
        "os.unlink('Old_Files/UK_old.xlsx') # relative path as UK_old in the working directory"
      ]
    },
    {
      "cell_type": "code",
      "execution_count": null,
      "metadata": {
        "id": "DxLnN3ya3KWN"
      },
      "outputs": [],
      "source": [
        "# delete empty folder 'Old_Files' from Raw_Files folder \n",
        "# ..go back in the Excel_Automation_Python...\n",
        "\n",
        "folder_to_remove= 'Old_Files'\n",
        "os.rmdir(folder_to_remove)"
      ]
    },
    {
      "cell_type": "code",
      "execution_count": null,
      "metadata": {
        "id": "eV1B39qb3iCB"
      },
      "outputs": [],
      "source": [
        "# delete NOT empty folder\n",
        "\n",
        "# New_Folder contains another file 'Inner_folder'\n",
        "print( os.listdir('/home/e57658/workspace/Excel_Automation_Python/New_Folder'))\n",
        "\n",
        "shutil.rmtree('/home/e57658/workspace/Excel_Automation_Python/New_Folder') \n",
        "# here we used the absolute path \n",
        "# we can NOT use relative path for folders / files as they are NOT present in cwd"
      ]
    },
    {
      "cell_type": "code",
      "execution_count": null,
      "metadata": {
        "id": "qGwt9i5N3z7R"
      },
      "outputs": [],
      "source": [
        "# now that we check the list in the upper level of files tree\n",
        "# we see  that New_Folder has disapeared\n",
        "\n",
        "os.listdir('..')"
      ]
    },
    {
      "cell_type": "markdown",
      "metadata": {
        "id": "0fgLzMm584mg"
      },
      "source": [
        "# Work with Excel Files\n"
      ]
    },
    {
      "cell_type": "raw",
      "metadata": {
        "id": "YURQ1cSY_dfW"
      },
      "source": [
        "We want to process some raw files and store them in a new separate file : Precessed_Files"
      ]
    },
    {
      "cell_type": "code",
      "execution_count": null,
      "metadata": {
        "id": "GoObcU-7_dfW"
      },
      "outputs": [],
      "source": [
        "# the path to the new folder\n",
        "cwd + '/' + 'Processed_Files'"
      ]
    },
    {
      "cell_type": "code",
      "execution_count": null,
      "metadata": {
        "id": "Eml73ZwN9Z-V"
      },
      "outputs": [],
      "source": [
        "# Create a folder 'Processed_Files' in the cwd where we'll store all processed files \n",
        "\n",
        "des = cwd + '/' + 'Processed_Files'\n",
        "os.makedirs(des)"
      ]
    },
    {
      "cell_type": "raw",
      "metadata": {
        "id": "uUzSvFQW_dfX"
      },
      "source": [
        "Steps in files processing ...."
      ]
    },
    {
      "cell_type": "markdown",
      "metadata": {
        "id": "7EImbUAb-oBT"
      },
      "source": [
        "\n",
        "\n",
        "1.  First read each excel files and put them into pandas dataframe\n",
        "2.  Consolidate all excel files into a single excel with separate sheet by country\n",
        "3.  Consolidate all excels into a single excel sheet\n",
        "\n"
      ]
    },
    {
      "cell_type": "markdown",
      "metadata": {
        "id": "Z1bvAVLN_dfX"
      },
      "source": [
        "## Read excels"
      ]
    },
    {
      "cell_type": "code",
      "execution_count": null,
      "metadata": {
        "id": "5Vlm5_yr89UT"
      },
      "outputs": [],
      "source": [
        "# if the excel file has too many rows, when visualising the data, not all columns are displayed\n",
        "# to overcome this we use .set_option method\n",
        "\n",
        "# set visible all columns\n",
        "pd.set_option('display.max_columns', None)"
      ]
    },
    {
      "cell_type": "code",
      "execution_count": null,
      "metadata": {
        "id": "7qNp7_9l9ORl"
      },
      "outputs": [],
      "source": [
        "# DE.xlsx file\n",
        "\n",
        "# store the nme of the file in filename variable\n",
        "filename = 'DE.xlsx'\n",
        "# read the excel file with .read_excel method\n",
        "de = pd.read_excel(filename, # the file we want to read\n",
        "                   index_col=None, # do not add column index\n",
        "                   header=0) # the first row to be used as headers (column names)\n",
        "\n",
        "# check dataframe shape\n",
        "print('Dataframe Shape: ', de.shape)\n",
        "de.head()"
      ]
    },
    {
      "cell_type": "code",
      "execution_count": null,
      "metadata": {
        "id": "q-ZJeXh4_KBz"
      },
      "outputs": [],
      "source": [
        "# add a column 'Country' to diferentiate the data in the consilidated dataframe\n",
        "de['Country']= 'DE'\n",
        "\n",
        "# check dataframe shape after adding the new column\n",
        "print('Dataframe Shape: ', de.shape)\n",
        "\n",
        "# visualize first rows\n",
        "de.head()"
      ]
    },
    {
      "cell_type": "code",
      "execution_count": null,
      "metadata": {
        "id": "EJdbhRHx-gDK"
      },
      "outputs": [],
      "source": [
        "print('nb of columns: ', len(de.columns))\n",
        "print('nb of rows: ', len(de))\n",
        "de.columns"
      ]
    },
    {
      "cell_type": "code",
      "execution_count": null,
      "metadata": {
        "id": "8epCZNIl_Put"
      },
      "outputs": [],
      "source": [
        "# FR\n",
        "filename = 'FR.xlsx'\n",
        "fr = pd.read_excel(filename, index_col=None, header=0)\n",
        "\n",
        "\n",
        "# add a column 'Country' to diferentiate the data in the consilidated dataframe\n",
        "fr['Country']= 'FR'\n",
        "\n",
        "# check dataframe shape, dimensions after adding the new column\n",
        "print('Dataframe Shape: ', fr.shape)\n",
        "print('nb of columns: ', len(fr.columns))\n",
        "print('nb of rows: ', len(fr))\n",
        "\n",
        "# print column names \n",
        "print('column names: ', fr.columns)\n",
        "\n",
        "# visualize first rows\n",
        "fr.head()"
      ]
    },
    {
      "cell_type": "code",
      "execution_count": null,
      "metadata": {
        "id": "qmpsNlOW_lzx"
      },
      "outputs": [],
      "source": [
        "# FR\n",
        "filename = 'UK.xlsx'\n",
        "uk = pd.read_excel(filename, index_col=None, header=0)\n",
        "\n",
        "\n",
        "# add a column 'Country' to diferentiate the data in the consilidated dataframe\n",
        "uk['Country']= 'UK'\n",
        "\n",
        "# check dataframe shape, dimensions after adding the new column\n",
        "print('Dataframe Shape: ', uk.shape)\n",
        "print('nb of columns: ', len(uk.columns))\n",
        "print('nb of rows: ', len(uk))\n",
        "\n",
        "# print column names \n",
        "print('column names: ', uk.columns)\n",
        "\n",
        "# visualize first rows\n",
        "uk.head()"
      ]
    },
    {
      "cell_type": "markdown",
      "metadata": {
        "id": "oVUypWR__dfa"
      },
      "source": [
        "## Single excel file with separate sheet by country"
      ]
    },
    {
      "cell_type": "markdown",
      "metadata": {
        "id": "1PfPXAglA_5-"
      },
      "source": [
        "Create an excel file where country would be on a separate sheet"
      ]
    },
    {
      "cell_type": "code",
      "execution_count": null,
      "metadata": {
        "id": "m9lLicSB_rER"
      },
      "outputs": [],
      "source": [
        "# create excel writer in the Processed_Files folder with the name 'Consolidation_by_sheet'\n",
        "writer = pd.ExcelWriter('Processed_Files/Consolidated_by_sheet.xlsx')\n",
        "# write dataframe to excel sheet named 'marks'\n",
        "uk.to_excel(writer, 'UK')\n",
        "fr.to_excel(writer, 'FR')\n",
        "de.to_excel(writer, 'DE')\n",
        "\n",
        "# - > !!!! save and close the excel file (important)\n",
        "writer.save()\n",
        "writer.close()"
      ]
    },
    {
      "cell_type": "markdown",
      "metadata": {
        "id": "RyLObXdTBH1N"
      },
      "source": [
        "## Consolidate all excels into a single excel sheet"
      ]
    },
    {
      "cell_type": "code",
      "execution_count": null,
      "metadata": {
        "id": "qWGHukDy_dfb"
      },
      "outputs": [],
      "source": [
        "frames = [de, fr, uk]\n",
        "\n",
        "df_concat = pd.concat(frames)\n",
        "\n",
        "print(df_concat.shape)\n",
        "\n",
        "# display first rows\n",
        "df_concat.head()"
      ]
    },
    {
      "cell_type": "code",
      "execution_count": null,
      "metadata": {
        "id": "uCKOn1kI_dfb"
      },
      "outputs": [],
      "source": [
        "# diplay last rows\n",
        "df_concat.tail()"
      ]
    },
    {
      "cell_type": "code",
      "execution_count": null,
      "metadata": {
        "id": "t_eBZayU_dfc"
      },
      "outputs": [],
      "source": [
        "# to consolidate multiple dataframes, there are 3 rules:\n",
        "# they have to have the same nb of columns (here all 3 df have 15 columns)\n",
        "# to concatenate by column names, all df have to have the same column names\n",
        "# the dfs must have same column order\n",
        "\n",
        "print(\"Column nb of DE: \", len(de.columns), de.columns)\n",
        "print(\"Column nb of FR: \", len(fr.columns), fr.columns)\n",
        "print(\"Column nb of UK: \", len(uk.columns), uk.columns)"
      ]
    },
    {
      "cell_type": "code",
      "execution_count": null,
      "metadata": {
        "id": "ncF6rqze_dfc"
      },
      "outputs": [],
      "source": [
        "# rename the dfs columns o they would be identical\n",
        "# we will use english column names for all dfs\n",
        "\n",
        "columns = uk.columns\n",
        "\n",
        "fr.columns = columns\n",
        "de.columns = columns\n",
        "\n",
        "print(\"Column nb of DE: \", len(de.columns), de.columns)\n",
        "print(\"Column nb of FR: \", len(fr.columns), fr.columns)\n",
        "print(\"Column nb of UK: \", len(uk.columns), uk.columns)"
      ]
    },
    {
      "cell_type": "code",
      "execution_count": null,
      "metadata": {
        "id": "sLHprNJd_dfd"
      },
      "outputs": [],
      "source": [
        "# this time the concatenation of dfs is correct\n",
        "\n",
        "df_concat = pd.concat(frames)\n",
        "\n",
        "print(df_concat.shape)\n",
        "df_concat.head()"
      ]
    },
    {
      "cell_type": "code",
      "execution_count": null,
      "metadata": {
        "id": "AY7QuVbE_dfd"
      },
      "outputs": [],
      "source": [
        "# last rows\n",
        "df_concat.tail()"
      ]
    },
    {
      "cell_type": "code",
      "execution_count": null,
      "metadata": {
        "id": "_lWwQnt7_dfd"
      },
      "outputs": [],
      "source": [
        "# create excel writer in the Processed_Files with the name 'Consolidation'\n",
        "writer = pd.ExcelWriter('Processed_Files/Consolidation.xlsx')\n",
        "\n",
        "# write dataframe to excel sheet named 'marks'\n",
        "df_concat.to_excel(writer, 'Consolidation')\n",
        "\n",
        "# save the excel file\n",
        "writer.save()\n",
        "writer.close()"
      ]
    },
    {
      "cell_type": "markdown",
      "metadata": {
        "id": "ktm1SmGr_dfe"
      },
      "source": [
        "# Reinitiate original folder"
      ]
    },
    {
      "cell_type": "code",
      "execution_count": null,
      "metadata": {
        "id": "lcou2vbv_dfe"
      },
      "outputs": [],
      "source": [
        "cwd"
      ]
    },
    {
      "cell_type": "code",
      "execution_count": null,
      "metadata": {
        "id": "TakbtTKp_dfe"
      },
      "outputs": [],
      "source": [
        "# delete Raw_Excel_Files to reinitiate the whole folder\n",
        "\n",
        "shutil.rmtree('/home/e57658/workspace/Excel_Automation_Python/Raw_Excel_Files') "
      ]
    },
    {
      "cell_type": "code",
      "execution_count": null,
      "metadata": {
        "id": "9frgfoQc_dff"
      },
      "outputs": [],
      "source": []
    }
  ],
  "metadata": {
    "colab": {
      "provenance": [],
      "toc_visible": true,
      "include_colab_link": true
    },
    "kernelspec": {
      "display_name": "Python 3 (ipykernel)",
      "language": "python",
      "name": "python3"
    },
    "language_info": {
      "codemirror_mode": {
        "name": "ipython",
        "version": 3
      },
      "file_extension": ".py",
      "mimetype": "text/x-python",
      "name": "python",
      "nbconvert_exporter": "python",
      "pygments_lexer": "ipython3",
      "version": "3.9.7"
    },
    "toc-autonumbering": true
  },
  "nbformat": 4,
  "nbformat_minor": 0
}